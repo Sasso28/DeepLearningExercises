{
 "cells": [
  {
   "cell_type": "markdown",
   "id": "appointed-zealand",
   "metadata": {},
   "source": [
    "The two goals I have for this analysis are:\n",
    "- Exercise with the library _panel_ and _hvplot_ to make a dynamic dashbord;\n",
    "- Do the multivariate analysis to classify the room occupacy."
   ]
  },
  {
   "cell_type": "code",
   "execution_count": 3,
   "id": "ordered-national",
   "metadata": {},
   "outputs": [
    {
     "data": {
      "text/html": [
       "<div>\n",
       "<style scoped>\n",
       "    .dataframe tbody tr th:only-of-type {\n",
       "        vertical-align: middle;\n",
       "    }\n",
       "\n",
       "    .dataframe tbody tr th {\n",
       "        vertical-align: top;\n",
       "    }\n",
       "\n",
       "    .dataframe thead th {\n",
       "        text-align: right;\n",
       "    }\n",
       "</style>\n",
       "<table border=\"1\" class=\"dataframe\">\n",
       "  <thead>\n",
       "    <tr style=\"text-align: right;\">\n",
       "      <th></th>\n",
       "      <th>Temperature</th>\n",
       "      <th>Humidity</th>\n",
       "      <th>Light</th>\n",
       "      <th>CO2</th>\n",
       "      <th>HumidityRatio</th>\n",
       "      <th>Occupancy</th>\n",
       "    </tr>\n",
       "    <tr>\n",
       "      <th>date</th>\n",
       "      <th></th>\n",
       "      <th></th>\n",
       "      <th></th>\n",
       "      <th></th>\n",
       "      <th></th>\n",
       "      <th></th>\n",
       "    </tr>\n",
       "  </thead>\n",
       "  <tbody>\n",
       "    <tr>\n",
       "      <th>2015-02-04 10:38:59</th>\n",
       "      <td>24.290000</td>\n",
       "      <td>25.700000</td>\n",
       "      <td>808.0</td>\n",
       "      <td>1150.25</td>\n",
       "      <td>0.004829</td>\n",
       "      <td>1</td>\n",
       "    </tr>\n",
       "    <tr>\n",
       "      <th>2015-02-04 10:40:00</th>\n",
       "      <td>24.330000</td>\n",
       "      <td>25.736000</td>\n",
       "      <td>809.8</td>\n",
       "      <td>1129.20</td>\n",
       "      <td>0.004848</td>\n",
       "      <td>1</td>\n",
       "    </tr>\n",
       "    <tr>\n",
       "      <th>2015-02-04 10:40:59</th>\n",
       "      <td>24.330000</td>\n",
       "      <td>25.700000</td>\n",
       "      <td>817.0</td>\n",
       "      <td>1125.80</td>\n",
       "      <td>0.004841</td>\n",
       "      <td>1</td>\n",
       "    </tr>\n",
       "    <tr>\n",
       "      <th>2015-02-04 10:41:59</th>\n",
       "      <td>24.356667</td>\n",
       "      <td>25.700000</td>\n",
       "      <td>813.0</td>\n",
       "      <td>1123.00</td>\n",
       "      <td>0.004849</td>\n",
       "      <td>1</td>\n",
       "    </tr>\n",
       "    <tr>\n",
       "      <th>2015-02-04 10:43:00</th>\n",
       "      <td>24.408333</td>\n",
       "      <td>25.681667</td>\n",
       "      <td>798.0</td>\n",
       "      <td>1124.00</td>\n",
       "      <td>0.004860</td>\n",
       "      <td>1</td>\n",
       "    </tr>\n",
       "  </tbody>\n",
       "</table>\n",
       "</div>"
      ],
      "text/plain": [
       "                     Temperature   Humidity  Light      CO2  HumidityRatio  \\\n",
       "date                                                                         \n",
       "2015-02-04 10:38:59    24.290000  25.700000  808.0  1150.25       0.004829   \n",
       "2015-02-04 10:40:00    24.330000  25.736000  809.8  1129.20       0.004848   \n",
       "2015-02-04 10:40:59    24.330000  25.700000  817.0  1125.80       0.004841   \n",
       "2015-02-04 10:41:59    24.356667  25.700000  813.0  1123.00       0.004849   \n",
       "2015-02-04 10:43:00    24.408333  25.681667  798.0  1124.00       0.004860   \n",
       "\n",
       "                     Occupancy  \n",
       "date                            \n",
       "2015-02-04 10:38:59          1  \n",
       "2015-02-04 10:40:00          1  \n",
       "2015-02-04 10:40:59          1  \n",
       "2015-02-04 10:41:59          1  \n",
       "2015-02-04 10:43:00          1  "
      ]
     },
     "execution_count": 3,
     "metadata": {},
     "output_type": "execute_result"
    }
   ],
   "source": [
    "import pandas as pd\n",
    "import numpy as np\n",
    "import matplotlib.pyplot as plt\n",
    "\n",
    "data2 = pd.read_csv('C:/Users/aleko/Downloads/occupancy_data/datatest.txt')\n",
    "data2['date'] = data2.date.astype('datetime64[ns]')\n",
    "data2 = data2.set_index('date')\n",
    "\n",
    "data2.tail()"
   ]
  },
  {
   "cell_type": "code",
   "execution_count": 4,
   "id": "statewide-stock",
   "metadata": {},
   "outputs": [],
   "source": [
    "from matplotlib.figure import Figure\n",
    "\n",
    "%matplotlib inline\n",
    "\n",
    "def mpl_plot(avg, highlight):\n",
    "    fig = Figure()\n",
    "    ax = fig.add_subplot()\n",
    "    avg.plot(ax=ax)\n",
    "    if len(highlight): highlight.plot(style='o', ax=ax)\n",
    "    return fig\n",
    "\n",
    "def find_outliers(variable='Temperature', window=30, sigma=20, view_fn=mpl_plot):\n",
    "    avg = data2[variable].rolling(window=window).mean()\n",
    "    residual = data2[variable] - avg\n",
    "    std = residual.rolling(window=window).std()\n",
    "    outliers = (np.abs(residual) > std * sigma)\n",
    "    return view_fn(avg, avg[outliers])"
   ]
  },
  {
   "cell_type": "code",
   "execution_count": 5,
   "id": "unavailable-comparative",
   "metadata": {
    "scrolled": false
   },
   "outputs": [
    {
     "data": {},
     "metadata": {},
     "output_type": "display_data"
    },
    {
     "data": {},
     "metadata": {},
     "output_type": "display_data"
    },
    {
     "data": {
      "application/vnd.holoviews_exec.v0+json": "",
      "text/html": [
       "<div id='1001'>\n",
       "\n",
       "\n",
       "\n",
       "\n",
       "\n",
       "  <div class=\"bk-root\" id=\"510afbfd-d12a-45ae-86eb-9f13508f0f33\" data-root-id=\"1001\"></div>\n",
       "</div>\n",
       "<script type=\"application/javascript\">(function(root) {\n",
       "  function embed_document(root) {\n",
       "    var docs_json = {\"667e49b8-3295-41fd-81ea-d98387589295\":{\"roots\":{\"references\":[{\"attributes\":{\"data\":{\"Temperature\":{\"__ndarray__\":\"MjMzMzOzNEAyMzMzM7M0QDIzMzMzszRAMjMzMzOzNEAyMzMzM7M0QDIzMzMzszRAMjMzMzOzNEAyMzMzM7M0QDIzMzMzszRAMjMzMzOzNEDdcND89aM2QCG1FEE6yDZAhMVseu7QNkBO9QJ3Udo2QN3YOwU14zZACfcsRNb0NkApNfDy1v02QBfdtj4OBzdA4QxNO3EQN0CHh872mRk3QObUCiK0IjdArwShHhcsN0Dj7X35xjQ3QL9ZrB0UPjdA\",\"dtype\":\"float64\",\"order\":\"little\",\"shape\":[24]},\"date\":{\"__ndarray__\":\"AABCiyy1dEIAgEHULLV0QgAAvh0ttXRCAIC9Zi21dEIAAIbNLbV0QgAAxBYutXRCAAACYC61dEIAgAGpLrV0QgAAfvIutXRCAAC8Oy+1dEIAAFI6QLV0QgAA6nRAtXRCAACQg0C1dEIAADaSQLV0QgCAnaBAtXRCAAAovkC1dEIAAM7MQLV0QgAAdNtAtXRCAAAa6kC1dEIAAMD4QLV0QgCAJwdBtXRCAIDNFUG1dEIAALIkQbV0QgAAWDNBtXRC\",\"dtype\":\"float64\",\"order\":\"little\",\"shape\":[24]}},\"selected\":{\"id\":\"1077\"},\"selection_policy\":{\"id\":\"1091\"}},\"id\":\"1076\",\"type\":\"ColumnDataSource\"},{\"attributes\":{\"end\":90,\"format\":\"0[.]00\",\"margin\":[5,10,5,10],\"start\":-30,\"title\":\"window\",\"value\":30,\"value_throttled\":30},\"id\":\"1005\",\"type\":\"Slider\"},{\"attributes\":{},\"id\":\"1045\",\"type\":\"BasicTickFormatter\"},{\"attributes\":{\"callback\":null,\"formatters\":{\"@{date}\":\"datetime\"},\"renderers\":[{\"id\":\"1052\"},{\"id\":\"1082\"}],\"tags\":[\"hv_created\"],\"tooltips\":[[\"date\",\"@{date}{%F %T}\"],[\"Temperature\",\"@{Temperature}\"]]},\"id\":\"1010\",\"type\":\"HoverTool\"},{\"attributes\":{\"text\":\"Temperature\",\"text_color\":{\"value\":\"black\"},\"text_font_size\":{\"value\":\"12pt\"}},\"id\":\"1013\",\"type\":\"Title\"},{\"attributes\":{\"css_classes\":[\"markdown\"],\"margin\":[5,5,5,5],\"name\":\"Markdown01627\",\"text\":\"&lt;h2&gt;Room Occupancy&lt;/h2&gt;\\n&lt;p&gt;Select the variable and the smoothing values&lt;/p&gt;\",\"width\":400},\"id\":\"1003\",\"type\":\"panel.models.markup.HTML\"},{\"attributes\":{\"data_source\":{\"id\":\"1046\"},\"glyph\":{\"id\":\"1049\"},\"hover_glyph\":null,\"muted_glyph\":{\"id\":\"1051\"},\"nonselection_glyph\":{\"id\":\"1050\"},\"selection_glyph\":null,\"view\":{\"id\":\"1053\"}},\"id\":\"1052\",\"type\":\"GlyphRenderer\"},{\"attributes\":{\"children\":[{\"id\":\"1003\"},{\"id\":\"1004\"}],\"margin\":[0,0,0,0],\"name\":\"Row01629\"},\"id\":\"1002\",\"type\":\"Row\"},{\"attributes\":{\"below\":[{\"id\":\"1021\"}],\"center\":[{\"id\":\"1024\"},{\"id\":\"1028\"}],\"left\":[{\"id\":\"1025\"}],\"margin\":[5,5,5,5],\"min_border_bottom\":10,\"min_border_left\":10,\"min_border_right\":10,\"min_border_top\":10,\"plot_height\":300,\"plot_width\":700,\"renderers\":[{\"id\":\"1052\"},{\"id\":\"1082\"}],\"right\":[{\"id\":\"1074\"}],\"sizing_mode\":\"fixed\",\"title\":{\"id\":\"1013\"},\"toolbar\":{\"id\":\"1035\"},\"x_range\":{\"id\":\"1008\"},\"x_scale\":{\"id\":\"1017\"},\"y_range\":{\"id\":\"1009\"},\"y_scale\":{\"id\":\"1019\"}},\"id\":\"1012\",\"subtype\":\"Figure\",\"type\":\"Plot\"},{\"attributes\":{\"axis_label\":\"\",\"bounds\":\"auto\",\"formatter\":{\"id\":\"1045\"},\"major_label_orientation\":\"horizontal\",\"ticker\":{\"id\":\"1026\"}},\"id\":\"1025\",\"type\":\"LinearAxis\"},{\"attributes\":{\"children\":[{\"id\":\"1005\"},{\"id\":\"1006\"}],\"margin\":[0,0,0,0],\"name\":\"Column01626\"},\"id\":\"1004\",\"type\":\"Column\"},{\"attributes\":{\"children\":[{\"id\":\"1012\"}],\"margin\":[0,0,0,0],\"name\":\"Row01625\"},\"id\":\"1007\",\"type\":\"Row\"},{\"attributes\":{\"click_policy\":\"mute\",\"items\":[{\"id\":\"1075\"}],\"location\":[0,0]},\"id\":\"1074\",\"type\":\"Legend\"},{\"attributes\":{\"label\":{\"value\":\"Temperature\"},\"renderers\":[{\"id\":\"1052\"},{\"id\":\"1082\"}]},\"id\":\"1075\",\"type\":\"LegendItem\"},{\"attributes\":{\"client_comm_id\":\"63b1c540393f44548e58193ebc7f0a68\",\"comm_id\":\"b3b7146b51994309a145773ee3ce9fb3\",\"plot_id\":\"1001\"},\"id\":\"1370\",\"type\":\"panel.models.comm_manager.CommManager\"},{\"attributes\":{\"end\":24.51665880952381,\"reset_end\":24.51665880952381,\"reset_start\":19.84166738095238,\"start\":19.84166738095238,\"tags\":[[[\"Temperature\",\"Temperature\",null]]]},\"id\":\"1009\",\"type\":\"Range1d\"},{\"attributes\":{},\"id\":\"1091\",\"type\":\"UnionRenderers\"},{\"attributes\":{},\"id\":\"1047\",\"type\":\"Selection\"},{\"attributes\":{},\"id\":\"1043\",\"type\":\"DatetimeTickFormatter\"},{\"attributes\":{},\"id\":\"1059\",\"type\":\"UnionRenderers\"},{\"attributes\":{\"bottom_units\":\"screen\",\"fill_alpha\":0.5,\"fill_color\":\"lightgrey\",\"left_units\":\"screen\",\"level\":\"overlay\",\"line_alpha\":1.0,\"line_color\":\"black\",\"line_dash\":[4,4],\"line_width\":2,\"right_units\":\"screen\",\"top_units\":\"screen\"},\"id\":\"1034\",\"type\":\"BoxAnnotation\"},{\"attributes\":{},\"id\":\"1017\",\"type\":\"LinearScale\"},{\"attributes\":{\"line_alpha\":0.1,\"line_color\":\"#1f77b3\",\"line_width\":2,\"x\":{\"field\":\"date\"},\"y\":{\"field\":\"Temperature\"}},\"id\":\"1050\",\"type\":\"Line\"},{\"attributes\":{\"end\":60,\"format\":\"0[.]00\",\"margin\":[5,10,5,10],\"start\":-20,\"title\":\"sigma\",\"value\":20,\"value_throttled\":20},\"id\":\"1006\",\"type\":\"Slider\"},{\"attributes\":{\"source\":{\"id\":\"1046\"}},\"id\":\"1053\",\"type\":\"CDSView\"},{\"attributes\":{\"end\":1423053430285.714,\"reset_end\":1423053430285.714,\"reset_start\":1422879889714.286,\"start\":1422879889714.286,\"tags\":[[[\"date\",\"date\",null]]]},\"id\":\"1008\",\"type\":\"Range1d\"},{\"attributes\":{\"children\":[{\"id\":\"1002\"},{\"id\":\"1007\"}],\"margin\":[0,0,0,0],\"name\":\"Column01630\"},\"id\":\"1001\",\"type\":\"Column\"},{\"attributes\":{\"base\":24,\"mantissas\":[1,2,4,6,8,12],\"max_interval\":43200000.0,\"min_interval\":3600000.0,\"num_minor_ticks\":0},\"id\":\"1064\",\"type\":\"AdaptiveTicker\"},{\"attributes\":{\"days\":[1,2,3,4,5,6,7,8,9,10,11,12,13,14,15,16,17,18,19,20,21,22,23,24,25,26,27,28,29,30,31]},\"id\":\"1065\",\"type\":\"DaysTicker\"},{\"attributes\":{\"num_minor_ticks\":5,\"tickers\":[{\"id\":\"1062\"},{\"id\":\"1063\"},{\"id\":\"1064\"},{\"id\":\"1065\"},{\"id\":\"1066\"},{\"id\":\"1067\"},{\"id\":\"1068\"},{\"id\":\"1069\"},{\"id\":\"1070\"},{\"id\":\"1071\"},{\"id\":\"1072\"},{\"id\":\"1073\"}]},\"id\":\"1022\",\"type\":\"DatetimeTicker\"},{\"attributes\":{\"mantissas\":[1,2,5],\"max_interval\":500.0,\"num_minor_ticks\":0},\"id\":\"1062\",\"type\":\"AdaptiveTicker\"},{\"attributes\":{},\"id\":\"1019\",\"type\":\"LinearScale\"},{\"attributes\":{\"base\":60,\"mantissas\":[1,2,5,10,15,20,30],\"max_interval\":1800000.0,\"min_interval\":1000.0,\"num_minor_ticks\":0},\"id\":\"1063\",\"type\":\"AdaptiveTicker\"},{\"attributes\":{\"line_alpha\":0.2,\"line_color\":\"#1f77b3\",\"line_width\":2,\"x\":{\"field\":\"date\"},\"y\":{\"field\":\"Temperature\"}},\"id\":\"1051\",\"type\":\"Line\"},{\"attributes\":{\"reload\":false},\"id\":\"1437\",\"type\":\"panel.models.location.Location\"},{\"attributes\":{\"months\":[0,1,2,3,4,5,6,7,8,9,10,11]},\"id\":\"1069\",\"type\":\"MonthsTicker\"},{\"attributes\":{\"axis_label\":\"date\",\"bounds\":\"auto\",\"formatter\":{\"id\":\"1043\"},\"major_label_orientation\":\"horizontal\",\"ticker\":{\"id\":\"1022\"}},\"id\":\"1021\",\"type\":\"DatetimeAxis\"},{\"attributes\":{\"months\":[0,2,4,6,8,10]},\"id\":\"1070\",\"type\":\"MonthsTicker\"},{\"attributes\":{\"days\":[1,4,7,10,13,16,19,22,25,28]},\"id\":\"1066\",\"type\":\"DaysTicker\"},{\"attributes\":{\"days\":[1,15]},\"id\":\"1068\",\"type\":\"DaysTicker\"},{\"attributes\":{\"axis\":{\"id\":\"1021\"},\"grid_line_color\":null,\"ticker\":null},\"id\":\"1024\",\"type\":\"Grid\"},{\"attributes\":{\"months\":[0,6]},\"id\":\"1072\",\"type\":\"MonthsTicker\"},{\"attributes\":{},\"id\":\"1026\",\"type\":\"BasicTicker\"},{\"attributes\":{},\"id\":\"1033\",\"type\":\"ResetTool\"},{\"attributes\":{\"data_source\":{\"id\":\"1076\"},\"glyph\":{\"id\":\"1079\"},\"hover_glyph\":null,\"muted_glyph\":{\"id\":\"1081\"},\"nonselection_glyph\":{\"id\":\"1080\"},\"selection_glyph\":null,\"view\":{\"id\":\"1083\"}},\"id\":\"1082\",\"type\":\"GlyphRenderer\"},{\"attributes\":{\"days\":[1,8,15,22]},\"id\":\"1067\",\"type\":\"DaysTicker\"},{\"attributes\":{},\"id\":\"1073\",\"type\":\"YearsTicker\"},{\"attributes\":{\"axis\":{\"id\":\"1025\"},\"dimension\":1,\"grid_line_color\":null,\"ticker\":null},\"id\":\"1028\",\"type\":\"Grid\"},{\"attributes\":{},\"id\":\"1077\",\"type\":\"Selection\"},{\"attributes\":{\"months\":[0,4,8]},\"id\":\"1071\",\"type\":\"MonthsTicker\"},{\"attributes\":{\"data\":{\"Temperature\":{\"__ndarray__\":\"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\",\"dtype\":\"float64\",\"order\":\"little\",\"shape\":[2665]},\"date\":{\"__ndarray__\":\"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\",\"dtype\":\"float64\",\"order\":\"little\",\"shape\":[2665]}},\"selected\":{\"id\":\"1047\"},\"selection_policy\":{\"id\":\"1059\"}},\"id\":\"1046\",\"type\":\"ColumnDataSource\"},{\"attributes\":{\"fill_alpha\":{\"value\":0.1},\"fill_color\":{\"value\":\"orange\"},\"line_alpha\":{\"value\":0.1},\"line_color\":{\"value\":\"orange\"},\"size\":{\"units\":\"screen\",\"value\":5.477225575051661},\"x\":{\"field\":\"date\"},\"y\":{\"field\":\"Temperature\"}},\"id\":\"1080\",\"type\":\"Scatter\"},{\"attributes\":{\"fill_color\":{\"value\":\"orange\"},\"line_color\":{\"value\":\"orange\"},\"size\":{\"units\":\"screen\",\"value\":5.477225575051661},\"x\":{\"field\":\"date\"},\"y\":{\"field\":\"Temperature\"}},\"id\":\"1079\",\"type\":\"Scatter\"},{\"attributes\":{},\"id\":\"1029\",\"type\":\"SaveTool\"},{\"attributes\":{},\"id\":\"1030\",\"type\":\"PanTool\"},{\"attributes\":{},\"id\":\"1031\",\"type\":\"WheelZoomTool\"},{\"attributes\":{\"source\":{\"id\":\"1076\"}},\"id\":\"1083\",\"type\":\"CDSView\"},{\"attributes\":{\"overlay\":{\"id\":\"1034\"}},\"id\":\"1032\",\"type\":\"BoxZoomTool\"},{\"attributes\":{\"fill_alpha\":{\"value\":0.2},\"fill_color\":{\"value\":\"orange\"},\"line_alpha\":{\"value\":0.2},\"line_color\":{\"value\":\"orange\"},\"size\":{\"units\":\"screen\",\"value\":5.477225575051661},\"x\":{\"field\":\"date\"},\"y\":{\"field\":\"Temperature\"}},\"id\":\"1081\",\"type\":\"Scatter\"},{\"attributes\":{\"active_drag\":\"auto\",\"active_inspect\":\"auto\",\"active_multi\":null,\"active_scroll\":\"auto\",\"active_tap\":\"auto\",\"tools\":[{\"id\":\"1010\"},{\"id\":\"1029\"},{\"id\":\"1030\"},{\"id\":\"1031\"},{\"id\":\"1032\"},{\"id\":\"1033\"}]},\"id\":\"1035\",\"type\":\"Toolbar\"},{\"attributes\":{\"line_color\":\"#1f77b3\",\"line_width\":2,\"x\":{\"field\":\"date\"},\"y\":{\"field\":\"Temperature\"}},\"id\":\"1049\",\"type\":\"Line\"}],\"root_ids\":[\"1001\",\"1370\",\"1437\"]},\"title\":\"Bokeh Application\",\"version\":\"2.2.3\"}};\n",
       "    var render_items = [{\"docid\":\"667e49b8-3295-41fd-81ea-d98387589295\",\"root_ids\":[\"1001\"],\"roots\":{\"1001\":\"510afbfd-d12a-45ae-86eb-9f13508f0f33\"}}];\n",
       "    root.Bokeh.embed.embed_items_notebook(docs_json, render_items);\n",
       "  }\n",
       "  if (root.Bokeh !== undefined && root.Bokeh.Panel !== undefined) {\n",
       "    embed_document(root);\n",
       "  } else {\n",
       "    var attempts = 0;\n",
       "    var timer = setInterval(function(root) {\n",
       "      if (root.Bokeh !== undefined && root.Bokeh.Panel !== undefined) {\n",
       "        clearInterval(timer);\n",
       "        embed_document(root);\n",
       "      } else if (document.readyState == \"complete\") {\n",
       "        attempts++;\n",
       "        if (attempts > 100) {\n",
       "          clearInterval(timer);\n",
       "          console.log(\"Bokeh: ERROR: Unable to run BokehJS code because BokehJS library is missing\");\n",
       "        }\n",
       "      }\n",
       "    }, 10, root)\n",
       "  }\n",
       "})(window);</script>"
      ],
      "text/plain": [
       "Column\n",
       "    [0] Row\n",
       "        [0] Markdown(str, width=400)\n",
       "        [1] Column\n",
       "            [0] IntSlider(end=90, name='window', start=-30, value=30, value_throttled=30)\n",
       "            [1] IntSlider(end=60, name='sigma', start=-20, value=20, value_throttled=20)\n",
       "    [1] Row\n",
       "        [0] HoloViews(Overlay, name='interactive01464')"
      ]
     },
     "execution_count": 5,
     "metadata": {
      "application/vnd.holoviews_exec.v0+json": {
       "id": "1001"
      }
     },
     "output_type": "execute_result"
    }
   ],
   "source": [
    "import hvplot.pandas\n",
    "import panel as pn\n",
    "\n",
    "def hvplot(avg, highlight):\n",
    "    return avg.hvplot(height=300) * highlight.hvplot.scatter(color='orange', padding=0.1)\n",
    "\n",
    "text2 = \"## Room Occupancy\\nSelect the variable and the smoothing values\"\n",
    "hvp   = pn.interact(find_outliers, view_fn=hvplot)\n",
    "pn.Column(pn.Row(pn.panel(text2, width=400), hvp[0]), hvp[1]).servable(\"Occupancy\")"
   ]
  },
  {
   "cell_type": "markdown",
   "id": "rubber-success",
   "metadata": {},
   "source": [
    "# Occupancy detection"
   ]
  },
  {
   "cell_type": "markdown",
   "id": "competitive-portland",
   "metadata": {},
   "source": [
    "### The real part of the analysis has the goal to find out the occypancy depending on different features.\n",
    "\n",
    "### To achieve it I am going to use two different techniques, Machine Learning and Deep Learning.\n"
   ]
  },
  {
   "cell_type": "code",
   "execution_count": 4,
   "id": "economic-affairs",
   "metadata": {},
   "outputs": [
    {
     "data": {
      "text/html": [
       "        <script type=\"text/javascript\">\n",
       "        window.PlotlyConfig = {MathJaxConfig: 'local'};\n",
       "        if (window.MathJax) {MathJax.Hub.Config({SVG: {font: \"STIX-Web\"}});}\n",
       "        if (typeof require !== 'undefined') {\n",
       "        require.undef(\"plotly\");\n",
       "        requirejs.config({\n",
       "            paths: {\n",
       "                'plotly': ['https://cdn.plot.ly/plotly-latest.min']\n",
       "            }\n",
       "        });\n",
       "        require(['plotly'], function(Plotly) {\n",
       "            window._Plotly = Plotly;\n",
       "        });\n",
       "        }\n",
       "        </script>\n",
       "        "
      ]
     },
     "metadata": {},
     "output_type": "display_data"
    }
   ],
   "source": [
    "from plotly.offline import init_notebook_mode, iplot, plot\n",
    "init_notebook_mode(connected=True)\n",
    "import plotly.express as px\n",
    "import plotly.graph_objects as go\n",
    "\n",
    "from sklearn.preprocessing import MinMaxScaler, MaxAbsScaler\n",
    "from sklearn.model_selection import train_test_split\n",
    "from sklearn.neighbors import KNeighborsClassifier\n",
    "from sklearn.svm import SVC\n",
    "from sklearn.metrics import confusion_matrix\n",
    "\n",
    "from keras.models import Sequential\n",
    "from keras.layers import Dense, Activation, Dropout\n",
    "from keras.regularizers import l2, l1\n",
    "from keras.metrics import BinaryAccuracy"
   ]
  },
  {
   "cell_type": "code",
   "execution_count": 5,
   "id": "together-hostel",
   "metadata": {},
   "outputs": [],
   "source": [
    "datatest = pd.read_csv(\"C:/Users/aleko/Downloads/occupancy_data/datatest.txt\")\n",
    "datatest2 = pd.read_csv(\"C:/Users/aleko/Downloads/occupancy_data/datatest2.txt\")\n",
    "datatraining = pd.read_csv(\"C:/Users/aleko/Downloads/occupancy_data/datatraining.txt\")"
   ]
  },
  {
   "cell_type": "code",
   "execution_count": 6,
   "id": "permanent-nation",
   "metadata": {},
   "outputs": [
    {
     "name": "stdout",
     "output_type": "stream",
     "text": [
      "<class 'pandas.core.frame.DataFrame'>\n",
      "Int64Index: 2665 entries, 140 to 2804\n",
      "Data columns (total 7 columns):\n",
      " #   Column         Non-Null Count  Dtype  \n",
      "---  ------         --------------  -----  \n",
      " 0   date           2665 non-null   object \n",
      " 1   Temperature    2665 non-null   float64\n",
      " 2   Humidity       2665 non-null   float64\n",
      " 3   Light          2665 non-null   float64\n",
      " 4   CO2            2665 non-null   float64\n",
      " 5   HumidityRatio  2665 non-null   float64\n",
      " 6   Occupancy      2665 non-null   int64  \n",
      "dtypes: float64(5), int64(1), object(1)\n",
      "memory usage: 166.6+ KB\n",
      "None\n"
     ]
    },
    {
     "data": {
      "text/html": [
       "<div>\n",
       "<style scoped>\n",
       "    .dataframe tbody tr th:only-of-type {\n",
       "        vertical-align: middle;\n",
       "    }\n",
       "\n",
       "    .dataframe tbody tr th {\n",
       "        vertical-align: top;\n",
       "    }\n",
       "\n",
       "    .dataframe thead th {\n",
       "        text-align: right;\n",
       "    }\n",
       "</style>\n",
       "<table border=\"1\" class=\"dataframe\">\n",
       "  <thead>\n",
       "    <tr style=\"text-align: right;\">\n",
       "      <th></th>\n",
       "      <th>date</th>\n",
       "      <th>Temperature</th>\n",
       "      <th>Humidity</th>\n",
       "      <th>Light</th>\n",
       "      <th>CO2</th>\n",
       "      <th>HumidityRatio</th>\n",
       "      <th>Occupancy</th>\n",
       "    </tr>\n",
       "  </thead>\n",
       "  <tbody>\n",
       "    <tr>\n",
       "      <th>140</th>\n",
       "      <td>2015-02-02 14:19:00</td>\n",
       "      <td>23.7000</td>\n",
       "      <td>26.272</td>\n",
       "      <td>585.200000</td>\n",
       "      <td>749.200000</td>\n",
       "      <td>0.004764</td>\n",
       "      <td>1</td>\n",
       "    </tr>\n",
       "    <tr>\n",
       "      <th>141</th>\n",
       "      <td>2015-02-02 14:19:59</td>\n",
       "      <td>23.7180</td>\n",
       "      <td>26.290</td>\n",
       "      <td>578.400000</td>\n",
       "      <td>760.400000</td>\n",
       "      <td>0.004773</td>\n",
       "      <td>1</td>\n",
       "    </tr>\n",
       "    <tr>\n",
       "      <th>142</th>\n",
       "      <td>2015-02-02 14:21:00</td>\n",
       "      <td>23.7300</td>\n",
       "      <td>26.230</td>\n",
       "      <td>572.666667</td>\n",
       "      <td>769.666667</td>\n",
       "      <td>0.004765</td>\n",
       "      <td>1</td>\n",
       "    </tr>\n",
       "    <tr>\n",
       "      <th>143</th>\n",
       "      <td>2015-02-02 14:22:00</td>\n",
       "      <td>23.7225</td>\n",
       "      <td>26.125</td>\n",
       "      <td>493.750000</td>\n",
       "      <td>774.750000</td>\n",
       "      <td>0.004744</td>\n",
       "      <td>1</td>\n",
       "    </tr>\n",
       "    <tr>\n",
       "      <th>144</th>\n",
       "      <td>2015-02-02 14:23:00</td>\n",
       "      <td>23.7540</td>\n",
       "      <td>26.200</td>\n",
       "      <td>488.600000</td>\n",
       "      <td>779.000000</td>\n",
       "      <td>0.004767</td>\n",
       "      <td>1</td>\n",
       "    </tr>\n",
       "  </tbody>\n",
       "</table>\n",
       "</div>"
      ],
      "text/plain": [
       "                    date  Temperature  Humidity       Light         CO2  \\\n",
       "140  2015-02-02 14:19:00      23.7000    26.272  585.200000  749.200000   \n",
       "141  2015-02-02 14:19:59      23.7180    26.290  578.400000  760.400000   \n",
       "142  2015-02-02 14:21:00      23.7300    26.230  572.666667  769.666667   \n",
       "143  2015-02-02 14:22:00      23.7225    26.125  493.750000  774.750000   \n",
       "144  2015-02-02 14:23:00      23.7540    26.200  488.600000  779.000000   \n",
       "\n",
       "     HumidityRatio  Occupancy  \n",
       "140       0.004764          1  \n",
       "141       0.004773          1  \n",
       "142       0.004765          1  \n",
       "143       0.004744          1  \n",
       "144       0.004767          1  "
      ]
     },
     "execution_count": 6,
     "metadata": {},
     "output_type": "execute_result"
    }
   ],
   "source": [
    "print(datatest.info())\n",
    "datatest.head()"
   ]
  },
  {
   "cell_type": "code",
   "execution_count": 7,
   "id": "bacterial-advocacy",
   "metadata": {},
   "outputs": [
    {
     "name": "stdout",
     "output_type": "stream",
     "text": [
      "<class 'pandas.core.frame.DataFrame'>\n",
      "Int64Index: 9752 entries, 1 to 9752\n",
      "Data columns (total 7 columns):\n",
      " #   Column         Non-Null Count  Dtype  \n",
      "---  ------         --------------  -----  \n",
      " 0   date           9752 non-null   object \n",
      " 1   Temperature    9752 non-null   float64\n",
      " 2   Humidity       9752 non-null   float64\n",
      " 3   Light          9752 non-null   float64\n",
      " 4   CO2            9752 non-null   float64\n",
      " 5   HumidityRatio  9752 non-null   float64\n",
      " 6   Occupancy      9752 non-null   int64  \n",
      "dtypes: float64(5), int64(1), object(1)\n",
      "memory usage: 609.5+ KB\n",
      "None\n"
     ]
    },
    {
     "data": {
      "text/html": [
       "<div>\n",
       "<style scoped>\n",
       "    .dataframe tbody tr th:only-of-type {\n",
       "        vertical-align: middle;\n",
       "    }\n",
       "\n",
       "    .dataframe tbody tr th {\n",
       "        vertical-align: top;\n",
       "    }\n",
       "\n",
       "    .dataframe thead th {\n",
       "        text-align: right;\n",
       "    }\n",
       "</style>\n",
       "<table border=\"1\" class=\"dataframe\">\n",
       "  <thead>\n",
       "    <tr style=\"text-align: right;\">\n",
       "      <th></th>\n",
       "      <th>date</th>\n",
       "      <th>Temperature</th>\n",
       "      <th>Humidity</th>\n",
       "      <th>Light</th>\n",
       "      <th>CO2</th>\n",
       "      <th>HumidityRatio</th>\n",
       "      <th>Occupancy</th>\n",
       "    </tr>\n",
       "  </thead>\n",
       "  <tbody>\n",
       "    <tr>\n",
       "      <th>1</th>\n",
       "      <td>2015-02-11 14:48:00</td>\n",
       "      <td>21.7600</td>\n",
       "      <td>31.133333</td>\n",
       "      <td>437.333333</td>\n",
       "      <td>1029.666667</td>\n",
       "      <td>0.005021</td>\n",
       "      <td>1</td>\n",
       "    </tr>\n",
       "    <tr>\n",
       "      <th>2</th>\n",
       "      <td>2015-02-11 14:49:00</td>\n",
       "      <td>21.7900</td>\n",
       "      <td>31.000000</td>\n",
       "      <td>437.333333</td>\n",
       "      <td>1000.000000</td>\n",
       "      <td>0.005009</td>\n",
       "      <td>1</td>\n",
       "    </tr>\n",
       "    <tr>\n",
       "      <th>3</th>\n",
       "      <td>2015-02-11 14:50:00</td>\n",
       "      <td>21.7675</td>\n",
       "      <td>31.122500</td>\n",
       "      <td>434.000000</td>\n",
       "      <td>1003.750000</td>\n",
       "      <td>0.005022</td>\n",
       "      <td>1</td>\n",
       "    </tr>\n",
       "    <tr>\n",
       "      <th>4</th>\n",
       "      <td>2015-02-11 14:51:00</td>\n",
       "      <td>21.7675</td>\n",
       "      <td>31.122500</td>\n",
       "      <td>439.000000</td>\n",
       "      <td>1009.500000</td>\n",
       "      <td>0.005022</td>\n",
       "      <td>1</td>\n",
       "    </tr>\n",
       "    <tr>\n",
       "      <th>5</th>\n",
       "      <td>2015-02-11 14:51:59</td>\n",
       "      <td>21.7900</td>\n",
       "      <td>31.133333</td>\n",
       "      <td>437.333333</td>\n",
       "      <td>1005.666667</td>\n",
       "      <td>0.005030</td>\n",
       "      <td>1</td>\n",
       "    </tr>\n",
       "  </tbody>\n",
       "</table>\n",
       "</div>"
      ],
      "text/plain": [
       "                  date  Temperature   Humidity       Light          CO2  \\\n",
       "1  2015-02-11 14:48:00      21.7600  31.133333  437.333333  1029.666667   \n",
       "2  2015-02-11 14:49:00      21.7900  31.000000  437.333333  1000.000000   \n",
       "3  2015-02-11 14:50:00      21.7675  31.122500  434.000000  1003.750000   \n",
       "4  2015-02-11 14:51:00      21.7675  31.122500  439.000000  1009.500000   \n",
       "5  2015-02-11 14:51:59      21.7900  31.133333  437.333333  1005.666667   \n",
       "\n",
       "   HumidityRatio  Occupancy  \n",
       "1       0.005021          1  \n",
       "2       0.005009          1  \n",
       "3       0.005022          1  \n",
       "4       0.005022          1  \n",
       "5       0.005030          1  "
      ]
     },
     "execution_count": 7,
     "metadata": {},
     "output_type": "execute_result"
    }
   ],
   "source": [
    "print(datatest2.info())\n",
    "datatest2.head()"
   ]
  },
  {
   "cell_type": "code",
   "execution_count": 8,
   "id": "roman-brisbane",
   "metadata": {},
   "outputs": [
    {
     "name": "stdout",
     "output_type": "stream",
     "text": [
      "<class 'pandas.core.frame.DataFrame'>\n",
      "Int64Index: 8143 entries, 1 to 8143\n",
      "Data columns (total 7 columns):\n",
      " #   Column         Non-Null Count  Dtype  \n",
      "---  ------         --------------  -----  \n",
      " 0   date           8143 non-null   object \n",
      " 1   Temperature    8143 non-null   float64\n",
      " 2   Humidity       8143 non-null   float64\n",
      " 3   Light          8143 non-null   float64\n",
      " 4   CO2            8143 non-null   float64\n",
      " 5   HumidityRatio  8143 non-null   float64\n",
      " 6   Occupancy      8143 non-null   int64  \n",
      "dtypes: float64(5), int64(1), object(1)\n",
      "memory usage: 508.9+ KB\n",
      "None\n"
     ]
    },
    {
     "data": {
      "text/html": [
       "<div>\n",
       "<style scoped>\n",
       "    .dataframe tbody tr th:only-of-type {\n",
       "        vertical-align: middle;\n",
       "    }\n",
       "\n",
       "    .dataframe tbody tr th {\n",
       "        vertical-align: top;\n",
       "    }\n",
       "\n",
       "    .dataframe thead th {\n",
       "        text-align: right;\n",
       "    }\n",
       "</style>\n",
       "<table border=\"1\" class=\"dataframe\">\n",
       "  <thead>\n",
       "    <tr style=\"text-align: right;\">\n",
       "      <th></th>\n",
       "      <th>date</th>\n",
       "      <th>Temperature</th>\n",
       "      <th>Humidity</th>\n",
       "      <th>Light</th>\n",
       "      <th>CO2</th>\n",
       "      <th>HumidityRatio</th>\n",
       "      <th>Occupancy</th>\n",
       "    </tr>\n",
       "  </thead>\n",
       "  <tbody>\n",
       "    <tr>\n",
       "      <th>1</th>\n",
       "      <td>2015-02-04 17:51:00</td>\n",
       "      <td>23.18</td>\n",
       "      <td>27.2720</td>\n",
       "      <td>426.0</td>\n",
       "      <td>721.25</td>\n",
       "      <td>0.004793</td>\n",
       "      <td>1</td>\n",
       "    </tr>\n",
       "    <tr>\n",
       "      <th>2</th>\n",
       "      <td>2015-02-04 17:51:59</td>\n",
       "      <td>23.15</td>\n",
       "      <td>27.2675</td>\n",
       "      <td>429.5</td>\n",
       "      <td>714.00</td>\n",
       "      <td>0.004783</td>\n",
       "      <td>1</td>\n",
       "    </tr>\n",
       "    <tr>\n",
       "      <th>3</th>\n",
       "      <td>2015-02-04 17:53:00</td>\n",
       "      <td>23.15</td>\n",
       "      <td>27.2450</td>\n",
       "      <td>426.0</td>\n",
       "      <td>713.50</td>\n",
       "      <td>0.004779</td>\n",
       "      <td>1</td>\n",
       "    </tr>\n",
       "    <tr>\n",
       "      <th>4</th>\n",
       "      <td>2015-02-04 17:54:00</td>\n",
       "      <td>23.15</td>\n",
       "      <td>27.2000</td>\n",
       "      <td>426.0</td>\n",
       "      <td>708.25</td>\n",
       "      <td>0.004772</td>\n",
       "      <td>1</td>\n",
       "    </tr>\n",
       "    <tr>\n",
       "      <th>5</th>\n",
       "      <td>2015-02-04 17:55:00</td>\n",
       "      <td>23.10</td>\n",
       "      <td>27.2000</td>\n",
       "      <td>426.0</td>\n",
       "      <td>704.50</td>\n",
       "      <td>0.004757</td>\n",
       "      <td>1</td>\n",
       "    </tr>\n",
       "  </tbody>\n",
       "</table>\n",
       "</div>"
      ],
      "text/plain": [
       "                  date  Temperature  Humidity  Light     CO2  HumidityRatio  \\\n",
       "1  2015-02-04 17:51:00        23.18   27.2720  426.0  721.25       0.004793   \n",
       "2  2015-02-04 17:51:59        23.15   27.2675  429.5  714.00       0.004783   \n",
       "3  2015-02-04 17:53:00        23.15   27.2450  426.0  713.50       0.004779   \n",
       "4  2015-02-04 17:54:00        23.15   27.2000  426.0  708.25       0.004772   \n",
       "5  2015-02-04 17:55:00        23.10   27.2000  426.0  704.50       0.004757   \n",
       "\n",
       "   Occupancy  \n",
       "1          1  \n",
       "2          1  \n",
       "3          1  \n",
       "4          1  \n",
       "5          1  "
      ]
     },
     "execution_count": 8,
     "metadata": {},
     "output_type": "execute_result"
    }
   ],
   "source": [
    "print(datatraining.info())\n",
    "datatraining.head()"
   ]
  },
  {
   "cell_type": "markdown",
   "id": "cooked-screen",
   "metadata": {},
   "source": [
    "### For the ML part I am going to use a couple of classifiers like Support Vector Classification and KNeighborsClassifier. Both of them are appropriate because the datasets are not too big (<10k samples).\n"
   ]
  },
  {
   "cell_type": "markdown",
   "id": "posted-change",
   "metadata": {},
   "source": [
    "The first step is to convert the feature _date_ as _datetime_ in order to have the chance to manipulate the data and take a look at the progression of the occupancy in different time frames"
   ]
  },
  {
   "cell_type": "code",
   "execution_count": 9,
   "id": "elect-spiritual",
   "metadata": {},
   "outputs": [],
   "source": [
    "datatest['date'] = pd.to_datetime(datatest['date'])\n",
    "datatest2['date'] = pd.to_datetime(datatest2['date'])\n",
    "datatraining['date'] = pd.to_datetime(datatraining['date'])\n",
    "datatest.reset_index(drop=True, inplace=True)\n",
    "datatest2.reset_index(drop=True, inplace=True)\n",
    "datatraining.reset_index(drop=True, inplace=True)"
   ]
  },
  {
   "cell_type": "code",
   "execution_count": 10,
   "id": "regular-ballot",
   "metadata": {},
   "outputs": [
    {
     "data": {
      "text/html": [
       "<div>\n",
       "<style scoped>\n",
       "    .dataframe tbody tr th:only-of-type {\n",
       "        vertical-align: middle;\n",
       "    }\n",
       "\n",
       "    .dataframe tbody tr th {\n",
       "        vertical-align: top;\n",
       "    }\n",
       "\n",
       "    .dataframe thead th {\n",
       "        text-align: right;\n",
       "    }\n",
       "</style>\n",
       "<table border=\"1\" class=\"dataframe\">\n",
       "  <thead>\n",
       "    <tr style=\"text-align: right;\">\n",
       "      <th></th>\n",
       "      <th>Temperature</th>\n",
       "      <th>Humidity</th>\n",
       "      <th>Light</th>\n",
       "      <th>CO2</th>\n",
       "      <th>HumidityRatio</th>\n",
       "      <th>Occupancy</th>\n",
       "    </tr>\n",
       "  </thead>\n",
       "  <tbody>\n",
       "    <tr>\n",
       "      <th>count</th>\n",
       "      <td>2665.000000</td>\n",
       "      <td>2665.000000</td>\n",
       "      <td>2665.000000</td>\n",
       "      <td>2665.000000</td>\n",
       "      <td>2665.000000</td>\n",
       "      <td>2665.000000</td>\n",
       "    </tr>\n",
       "    <tr>\n",
       "      <th>mean</th>\n",
       "      <td>21.433876</td>\n",
       "      <td>25.353937</td>\n",
       "      <td>193.227556</td>\n",
       "      <td>717.906470</td>\n",
       "      <td>0.004027</td>\n",
       "      <td>0.364728</td>\n",
       "    </tr>\n",
       "    <tr>\n",
       "      <th>std</th>\n",
       "      <td>1.028024</td>\n",
       "      <td>2.436842</td>\n",
       "      <td>250.210906</td>\n",
       "      <td>292.681718</td>\n",
       "      <td>0.000611</td>\n",
       "      <td>0.481444</td>\n",
       "    </tr>\n",
       "    <tr>\n",
       "      <th>min</th>\n",
       "      <td>20.200000</td>\n",
       "      <td>22.100000</td>\n",
       "      <td>0.000000</td>\n",
       "      <td>427.500000</td>\n",
       "      <td>0.003303</td>\n",
       "      <td>0.000000</td>\n",
       "    </tr>\n",
       "    <tr>\n",
       "      <th>25%</th>\n",
       "      <td>20.650000</td>\n",
       "      <td>23.260000</td>\n",
       "      <td>0.000000</td>\n",
       "      <td>466.000000</td>\n",
       "      <td>0.003529</td>\n",
       "      <td>0.000000</td>\n",
       "    </tr>\n",
       "    <tr>\n",
       "      <th>50%</th>\n",
       "      <td>20.890000</td>\n",
       "      <td>25.000000</td>\n",
       "      <td>0.000000</td>\n",
       "      <td>580.500000</td>\n",
       "      <td>0.003815</td>\n",
       "      <td>0.000000</td>\n",
       "    </tr>\n",
       "    <tr>\n",
       "      <th>75%</th>\n",
       "      <td>22.356667</td>\n",
       "      <td>26.856667</td>\n",
       "      <td>442.500000</td>\n",
       "      <td>956.333333</td>\n",
       "      <td>0.004532</td>\n",
       "      <td>1.000000</td>\n",
       "    </tr>\n",
       "    <tr>\n",
       "      <th>max</th>\n",
       "      <td>24.408333</td>\n",
       "      <td>31.472500</td>\n",
       "      <td>1697.250000</td>\n",
       "      <td>1402.250000</td>\n",
       "      <td>0.005378</td>\n",
       "      <td>1.000000</td>\n",
       "    </tr>\n",
       "  </tbody>\n",
       "</table>\n",
       "</div>"
      ],
      "text/plain": [
       "       Temperature     Humidity        Light          CO2  HumidityRatio  \\\n",
       "count  2665.000000  2665.000000  2665.000000  2665.000000    2665.000000   \n",
       "mean     21.433876    25.353937   193.227556   717.906470       0.004027   \n",
       "std       1.028024     2.436842   250.210906   292.681718       0.000611   \n",
       "min      20.200000    22.100000     0.000000   427.500000       0.003303   \n",
       "25%      20.650000    23.260000     0.000000   466.000000       0.003529   \n",
       "50%      20.890000    25.000000     0.000000   580.500000       0.003815   \n",
       "75%      22.356667    26.856667   442.500000   956.333333       0.004532   \n",
       "max      24.408333    31.472500  1697.250000  1402.250000       0.005378   \n",
       "\n",
       "         Occupancy  \n",
       "count  2665.000000  \n",
       "mean      0.364728  \n",
       "std       0.481444  \n",
       "min       0.000000  \n",
       "25%       0.000000  \n",
       "50%       0.000000  \n",
       "75%       1.000000  \n",
       "max       1.000000  "
      ]
     },
     "execution_count": 10,
     "metadata": {},
     "output_type": "execute_result"
    }
   ],
   "source": [
    "datatest.describe()"
   ]
  },
  {
   "cell_type": "code",
   "execution_count": 11,
   "id": "ready-arbor",
   "metadata": {},
   "outputs": [],
   "source": [
    "datatest_copy = datatest.copy()\n",
    "datatest2_copy = datatest2.copy()\n",
    "datatraining_copy = datatraining.copy()"
   ]
  },
  {
   "cell_type": "code",
   "execution_count": 12,
   "id": "minus-johns",
   "metadata": {},
   "outputs": [],
   "source": [
    "scaler = MinMaxScaler()\n",
    "columns = ['Temperature', 'Humidity', 'Light', 'CO2', 'HumidityRatio']\n",
    "scaler.fit(np.array(datatraining[columns])) #transformation in numpy arrays in order to feed the scaler\n",
    "datatest[columns] = scaler.transform(np.array(datatest[columns]))\n",
    "datatest2[columns] = scaler.transform(np.array(datatest2[columns]))\n",
    "datatraining[columns] = scaler.transform(np.array(datatraining[columns]))"
   ]
  },
  {
   "cell_type": "code",
   "execution_count": 13,
   "id": "studied-bonus",
   "metadata": {},
   "outputs": [
    {
     "name": "stdout",
     "output_type": "stream",
     "text": [
      "       Temperature     Humidity        Light          CO2  HumidityRatio\n",
      "count  8143.000000  8143.000000  8143.000000  8143.000000    8143.000000\n",
      "mean      0.387341     0.401676     0.077292     0.119942       0.312576\n",
      "std       0.243281     0.247233     0.125947     0.194536       0.224186\n",
      "min       0.000000     0.000000     0.000000     0.000000       0.000000\n",
      "25%       0.167464     0.154431     0.000000     0.016246       0.106304\n",
      "50%       0.332536     0.423623     0.000000     0.025220       0.296338\n",
      "75%       0.571770     0.616307     0.165795     0.139925       0.441308\n",
      "max       1.000000     1.000000     1.000000     1.000000       1.000000\n"
     ]
    },
    {
     "data": {
      "image/png": "[encoded data removed]",
      "text/plain": [
       "<Figure size 720x720 with 1 Axes>"
      ]
     },
     "metadata": {
      "needs_background": "light"
     },
     "output_type": "display_data"
    }
   ],
   "source": [
    "import seaborn as sns\n",
    "plt.figure(figsize=(10,10))\n",
    "plt.title('Box Plot for Features', fontdict={'fontsize':18})\n",
    "ax = sns.boxplot(data=datatraining.drop(['date', 'Occupancy'],axis=1), orient=\"h\", palette=\"Set2\")\n",
    "print(datatraining.drop(['date', 'Occupancy'],axis=1).describe())"
   ]
  },
  {
   "cell_type": "code",
   "execution_count": 14,
   "id": "meaning-yemen",
   "metadata": {},
   "outputs": [
    {
     "data": {
      "image/png": "[encoded data removed]",
      "text/plain": [
       "<Figure size 720x576 with 2 Axes>"
      ]
     },
     "metadata": {
      "needs_background": "light"
     },
     "output_type": "display_data"
    }
   ],
   "source": [
    "plt.figure(figsize=(10,8))\n",
    "plt.title('Correlation Table for Features', fontdict={'fontsize':18})\n",
    "ax = sns.heatmap(datatraining.corr(), annot=True, linewidths=.2)"
   ]
  },
  {
   "cell_type": "code",
   "execution_count": 15,
   "id": "peripheral-ceremony",
   "metadata": {},
   "outputs": [],
   "source": [
    "hours_1 = [] #creating two different lists in order to see how the values are distributed between them\n",
    "hours_0 = []\n",
    "for date in datatraining[datatraining['Occupancy'] == 1]['date']:\n",
    "    hours_1.append(date.hour)\n",
    "for date in datatraining[datatraining['Occupancy'] == 0]['date']:\n",
    "    hours_0.append(date.hour)"
   ]
  },
  {
   "cell_type": "code",
   "execution_count": 16,
   "id": "hollow-rating",
   "metadata": {},
   "outputs": [
    {
     "data": {
      "text/plain": [
       "Text(0.5, 1.0, 'Density plots of different characters, per DC')"
      ]
     },
     "execution_count": 16,
     "metadata": {},
     "output_type": "execute_result"
    },
    {
     "data": {
      "image/png": "[encoded data removed]",
      "text/plain": [
       "<Figure size 1440x432 with 1 Axes>"
      ]
     },
     "metadata": {
      "needs_background": "light"
     },
     "output_type": "display_data"
    }
   ],
   "source": [
    "plt.figure(figsize=(20,6))\n",
    "sns.kdeplot(data=hours_1, shade=True)\n",
    "sns.kdeplot(data=hours_0, shade=True)\n",
    "plt.title(\"Density plots of different characters, per DC\")"
   ]
  },
  {
   "cell_type": "code",
   "execution_count": 35,
   "id": "exotic-detector",
   "metadata": {},
   "outputs": [],
   "source": [
    "days_1 = [] #creating two different lists in order to see how the values are distributed between them\n",
    "days_0 = []\n",
    "for date in datatest2[datatest2['Occupancy'] == 1]['date']:\n",
    "    days_1.append(date.day)\n",
    "for date in datatest2[datatest2['Occupancy'] == 0]['date']:\n",
    "    days_0.append(date.day)"
   ]
  },
  {
   "cell_type": "code",
   "execution_count": 36,
   "id": "sporting-weapon",
   "metadata": {},
   "outputs": [
    {
     "data": {
      "text/plain": [
       "Text(0.5, 1.0, 'Density plots of different characters, per DC')"
      ]
     },
     "execution_count": 36,
     "metadata": {},
     "output_type": "execute_result"
    },
    {
     "data": {
      "image/png": "[encoded data removed]",
      "text/plain": [
       "<Figure size 1440x432 with 1 Axes>"
      ]
     },
     "metadata": {
      "needs_background": "light"
     },
     "output_type": "display_data"
    }
   ],
   "source": [
    "plt.figure(figsize=(20,6))\n",
    "sns.kdeplot(data=days_1, shade=True)\n",
    "sns.kdeplot(data=days_0, shade=True)\n",
    "plt.title(\"Density plots of different characters, per DC\")"
   ]
  },
  {
   "cell_type": "code",
   "execution_count": 37,
   "id": "separate-sauce",
   "metadata": {},
   "outputs": [
    {
     "data": {
      "text/plain": [
       "14.0"
      ]
     },
     "execution_count": 37,
     "metadata": {},
     "output_type": "execute_result"
    }
   ],
   "source": [
    "np.median(days_0)"
   ]
  },
  {
   "cell_type": "code",
   "execution_count": 17,
   "id": "brown-classification",
   "metadata": {},
   "outputs": [
    {
     "name": "stderr",
     "output_type": "stream",
     "text": [
      "<ipython-input-17-16bb8e0410b4>:1: FutureWarning:\n",
      "\n",
      "Treating datetime data as categorical rather than numeric in `.describe` is deprecated and will be removed in a future version of pandas. Specify `datetime_is_numeric=True` to silence this warning and adopt the future behavior now.\n",
      "\n"
     ]
    },
    {
     "data": {
      "text/plain": [
       "count                    9752\n",
       "unique                   9752\n",
       "top       2015-02-15 15:04:59\n",
       "freq                        1\n",
       "first     2015-02-11 14:48:00\n",
       "last      2015-02-18 09:19:00\n",
       "Name: date, dtype: object"
      ]
     },
     "execution_count": 17,
     "metadata": {},
     "output_type": "execute_result"
    }
   ],
   "source": [
    "datatest2.date.describe()"
   ]
  },
  {
   "cell_type": "code",
   "execution_count": 18,
   "id": "revolutionary-throat",
   "metadata": {},
   "outputs": [
    {
     "data": {
      "text/html": [
       "<div>\n",
       "<style scoped>\n",
       "    .dataframe tbody tr th:only-of-type {\n",
       "        vertical-align: middle;\n",
       "    }\n",
       "\n",
       "    .dataframe tbody tr th {\n",
       "        vertical-align: top;\n",
       "    }\n",
       "\n",
       "    .dataframe thead th {\n",
       "        text-align: right;\n",
       "    }\n",
       "</style>\n",
       "<table border=\"1\" class=\"dataframe\">\n",
       "  <thead>\n",
       "    <tr style=\"text-align: right;\">\n",
       "      <th></th>\n",
       "      <th>date</th>\n",
       "      <th>Temperature</th>\n",
       "      <th>Humidity</th>\n",
       "      <th>Light</th>\n",
       "      <th>CO2</th>\n",
       "      <th>HumidityRatio</th>\n",
       "      <th>Occupancy</th>\n",
       "      <th>period_of_day</th>\n",
       "    </tr>\n",
       "  </thead>\n",
       "  <tbody>\n",
       "    <tr>\n",
       "      <th>4148</th>\n",
       "      <td>2015-02-07 14:58:59</td>\n",
       "      <td>0.741627</td>\n",
       "      <td>0.051179</td>\n",
       "      <td>0.052382</td>\n",
       "      <td>0.020733</td>\n",
       "      <td>0.068853</td>\n",
       "      <td>0</td>\n",
       "      <td>1</td>\n",
       "    </tr>\n",
       "    <tr>\n",
       "      <th>4090</th>\n",
       "      <td>2015-02-07 14:00:59</td>\n",
       "      <td>0.861244</td>\n",
       "      <td>0.016985</td>\n",
       "      <td>0.109129</td>\n",
       "      <td>0.014699</td>\n",
       "      <td>0.058614</td>\n",
       "      <td>0</td>\n",
       "      <td>1</td>\n",
       "    </tr>\n",
       "    <tr>\n",
       "      <th>4391</th>\n",
       "      <td>2015-02-07 19:01:59</td>\n",
       "      <td>0.287081</td>\n",
       "      <td>0.299475</td>\n",
       "      <td>0.000000</td>\n",
       "      <td>0.013771</td>\n",
       "      <td>0.197911</td>\n",
       "      <td>0</td>\n",
       "      <td>0</td>\n",
       "    </tr>\n",
       "    <tr>\n",
       "      <th>2564</th>\n",
       "      <td>2015-02-06 12:35:00</td>\n",
       "      <td>0.656699</td>\n",
       "      <td>0.165270</td>\n",
       "      <td>0.330782</td>\n",
       "      <td>0.252978</td>\n",
       "      <td>0.160600</td>\n",
       "      <td>1</td>\n",
       "      <td>1</td>\n",
       "    </tr>\n",
       "    <tr>\n",
       "      <th>652</th>\n",
       "      <td>2015-02-05 04:43:00</td>\n",
       "      <td>0.460925</td>\n",
       "      <td>0.324282</td>\n",
       "      <td>0.000000</td>\n",
       "      <td>0.021198</td>\n",
       "      <td>0.261912</td>\n",
       "      <td>0</td>\n",
       "      <td>0</td>\n",
       "    </tr>\n",
       "    <tr>\n",
       "      <th>3126</th>\n",
       "      <td>2015-02-06 21:56:59</td>\n",
       "      <td>0.251196</td>\n",
       "      <td>0.095877</td>\n",
       "      <td>0.000000</td>\n",
       "      <td>0.019341</td>\n",
       "      <td>0.015298</td>\n",
       "      <td>0</td>\n",
       "      <td>0</td>\n",
       "    </tr>\n",
       "    <tr>\n",
       "      <th>7435</th>\n",
       "      <td>2015-02-09 21:46:00</td>\n",
       "      <td>0.358852</td>\n",
       "      <td>0.748910</td>\n",
       "      <td>0.000000</td>\n",
       "      <td>0.144360</td>\n",
       "      <td>0.611839</td>\n",
       "      <td>0</td>\n",
       "      <td>0</td>\n",
       "    </tr>\n",
       "    <tr>\n",
       "      <th>1316</th>\n",
       "      <td>2015-02-05 15:47:00</td>\n",
       "      <td>0.830742</td>\n",
       "      <td>0.467203</td>\n",
       "      <td>0.309765</td>\n",
       "      <td>0.416061</td>\n",
       "      <td>0.500686</td>\n",
       "      <td>1</td>\n",
       "      <td>1</td>\n",
       "    </tr>\n",
       "    <tr>\n",
       "      <th>1471</th>\n",
       "      <td>2015-02-05 18:22:00</td>\n",
       "      <td>0.622010</td>\n",
       "      <td>0.306403</td>\n",
       "      <td>0.000000</td>\n",
       "      <td>0.211202</td>\n",
       "      <td>0.285996</td>\n",
       "      <td>0</td>\n",
       "      <td>0</td>\n",
       "    </tr>\n",
       "    <tr>\n",
       "      <th>4645</th>\n",
       "      <td>2015-02-07 23:16:00</td>\n",
       "      <td>0.155502</td>\n",
       "      <td>0.545312</td>\n",
       "      <td>0.000000</td>\n",
       "      <td>0.019031</td>\n",
       "      <td>0.373197</td>\n",
       "      <td>0</td>\n",
       "      <td>0</td>\n",
       "    </tr>\n",
       "  </tbody>\n",
       "</table>\n",
       "</div>"
      ],
      "text/plain": [
       "                    date  Temperature  Humidity     Light       CO2  \\\n",
       "4148 2015-02-07 14:58:59     0.741627  0.051179  0.052382  0.020733   \n",
       "4090 2015-02-07 14:00:59     0.861244  0.016985  0.109129  0.014699   \n",
       "4391 2015-02-07 19:01:59     0.287081  0.299475  0.000000  0.013771   \n",
       "2564 2015-02-06 12:35:00     0.656699  0.165270  0.330782  0.252978   \n",
       "652  2015-02-05 04:43:00     0.460925  0.324282  0.000000  0.021198   \n",
       "3126 2015-02-06 21:56:59     0.251196  0.095877  0.000000  0.019341   \n",
       "7435 2015-02-09 21:46:00     0.358852  0.748910  0.000000  0.144360   \n",
       "1316 2015-02-05 15:47:00     0.830742  0.467203  0.309765  0.416061   \n",
       "1471 2015-02-05 18:22:00     0.622010  0.306403  0.000000  0.211202   \n",
       "4645 2015-02-07 23:16:00     0.155502  0.545312  0.000000  0.019031   \n",
       "\n",
       "      HumidityRatio  Occupancy  period_of_day  \n",
       "4148       0.068853          0              1  \n",
       "4090       0.058614          0              1  \n",
       "4391       0.197911          0              0  \n",
       "2564       0.160600          1              1  \n",
       "652        0.261912          0              0  \n",
       "3126       0.015298          0              0  \n",
       "7435       0.611839          0              0  \n",
       "1316       0.500686          1              1  \n",
       "1471       0.285996          0              0  \n",
       "4645       0.373197          0              0  "
      ]
     },
     "execution_count": 18,
     "metadata": {},
     "output_type": "execute_result"
    }
   ],
   "source": [
    "datatest['period_of_day'] = [1 if (i.hour >= 7 and i.hour <= 17) else 0 for i in datatest['date']]\n",
    "datatest2['period_of_day'] = [1 if (i.hour >= 7 and i.hour <= 17) else 0 for i in datatest2['date']]\n",
    "datatraining['period_of_day'] = [1 if (i.hour >= 7 and i.hour <= 17) else 0 for i in datatraining['date']]\n",
    "datatraining.sample(10)"
   ]
  },
  {
   "cell_type": "code",
   "execution_count": 19,
   "id": "settled-pioneer",
   "metadata": {},
   "outputs": [
    {
     "data": {
      "image/png": "[encoded data removed]",
      "text/plain": [
       "<Figure size 720x576 with 2 Axes>"
      ]
     },
     "metadata": {
      "needs_background": "light"
     },
     "output_type": "display_data"
    }
   ],
   "source": [
    "plt.figure(figsize=(10,8))\n",
    "plt.title('Correlation Table for Features', fontdict={'fontsize':18})\n",
    "ax = sns.heatmap(datatraining_copy.corr(), annot=True, linewidths=.2)"
   ]
  },
  {
   "cell_type": "code",
   "execution_count": 20,
   "id": "democratic-importance",
   "metadata": {},
   "outputs": [],
   "source": [
    "X_train = datatraining.drop(columns=['date', 'Occupancy'], axis=1)\n",
    "y_train = datatraining['Occupancy']\n",
    "X_validation = datatest.drop(columns=['date', 'Occupancy'], axis=1)\n",
    "y_validation = datatest['Occupancy']\n",
    "X_test = datatest2.drop(columns=['date', 'Occupancy'], axis=1)\n",
    "y_test = datatest2['Occupancy']"
   ]
  },
  {
   "cell_type": "code",
   "execution_count": 21,
   "id": "hundred-rebate",
   "metadata": {},
   "outputs": [],
   "source": [
    "# parameter-tuning for knn\n",
    "n_neighbors_list = [7,15,45,135]\n",
    "weights_list = ['uniform', 'distance']\n",
    "metric_list = ['euclidean', 'manhattan']\n",
    "accuracies = {}\n",
    "for n in n_neighbors_list:\n",
    "    for weight in weights_list:\n",
    "        for metric in metric_list:\n",
    "            knn_model = KNeighborsClassifier(n_neighbors=n, weights=weight, metric=metric)\n",
    "            knn_model.fit(X_train, y_train)\n",
    "            accuracy = knn_model.score(X_validation, y_validation)\n",
    "            accuracies[str(n)+\"/\"+weight+\"/\"+metric] = accuracy"
   ]
  },
  {
   "cell_type": "code",
   "execution_count": 22,
   "id": "offshore-watson",
   "metadata": {},
   "outputs": [
    {
     "data": {
      "application/vnd.plotly.v1+json": {
       "config": {
        "linkText": "Export to plot.ly",
        "plotlyServerURL": "https://plot.ly",
        "showLink": false
       },
       "data": [
        {
         "hovertemplate": "Parameters=%{x}<br>Accuracy=%{y}<extra></extra>",
         "legendgroup": "",
         "line": {
          "color": "#636efa",
          "dash": "solid"
         },
         "mode": "lines",
         "name": "",
         "orientation": "v",
         "showlegend": false,
         "type": "scatter",
         "x": [
          "7/uniform/euclidean",
          "7/uniform/manhattan",
          "7/distance/euclidean",
          "7/distance/manhattan",
          "15/uniform/euclidean",
          "15/uniform/manhattan",
          "15/distance/euclidean",
          "15/distance/manhattan",
          "45/uniform/euclidean",
          "45/uniform/manhattan",
          "45/distance/euclidean",
          "45/distance/manhattan",
          "135/uniform/euclidean",
          "135/uniform/manhattan",
          "135/distance/euclidean",
          "135/distance/manhattan"
         ],
         "xaxis": "x",
         "y": [
          0.9151969981238274,
          0.9298311444652908,
          0.9148217636022514,
          0.9290806754221388,
          0.9110694183864916,
          0.9275797373358349,
          0.9155722326454033,
          0.9313320825515947,
          0.9602251407129456,
          0.9440900562851783,
          0.9534709193245778,
          0.9392120075046905,
          0.9636022514071294,
          0.9632270168855535,
          0.9636022514071294,
          0.9632270168855535
         ],
         "yaxis": "y"
        }
       ],
       "layout": {
        "legend": {
         "tracegroupgap": 0
        },
        "margin": {
         "t": 60
        },
        "template": {
         "data": {
          "bar": [
           {
            "error_x": {
             "color": "#2a3f5f"
            },
            "error_y": {
             "color": "#2a3f5f"
            },
            "marker": {
             "line": {
              "color": "#E5ECF6",
              "width": 0.5
             }
            },
            "type": "bar"
           }
          ],
          "barpolar": [
           {
            "marker": {
             "line": {
              "color": "#E5ECF6",
              "width": 0.5
             }
            },
            "type": "barpolar"
           }
          ],
          "carpet": [
           {
            "aaxis": {
             "endlinecolor": "#2a3f5f",
             "gridcolor": "white",
             "linecolor": "white",
             "minorgridcolor": "white",
             "startlinecolor": "#2a3f5f"
            },
            "baxis": {
             "endlinecolor": "#2a3f5f",
             "gridcolor": "white",
             "linecolor": "white",
             "minorgridcolor": "white",
             "startlinecolor": "#2a3f5f"
            },
            "type": "carpet"
           }
          ],
          "choropleth": [
           {
            "colorbar": {
             "outlinewidth": 0,
             "ticks": ""
            },
            "type": "choropleth"
           }
          ],
          "contour": [
           {
            "colorbar": {
             "outlinewidth": 0,
             "ticks": ""
            },
            "colorscale": [
             [
              0,
              "#0d0887"
             ],
             [
              0.1111111111111111,
              "#46039f"
             ],
             [
              0.2222222222222222,
              "#7201a8"
             ],
             [
              0.3333333333333333,
              "#9c179e"
             ],
             [
              0.4444444444444444,
              "#bd3786"
             ],
             [
              0.5555555555555556,
              "#d8576b"
             ],
             [
              0.6666666666666666,
              "#ed7953"
             ],
             [
              0.7777777777777778,
              "#fb9f3a"
             ],
             [
              0.8888888888888888,
              "#fdca26"
             ],
             [
              1,
              "#f0f921"
             ]
            ],
            "type": "contour"
           }
          ],
          "contourcarpet": [
           {
            "colorbar": {
             "outlinewidth": 0,
             "ticks": ""
            },
            "type": "contourcarpet"
           }
          ],
          "heatmap": [
           {
            "colorbar": {
             "outlinewidth": 0,
             "ticks": ""
            },
            "colorscale": [
             [
              0,
              "#0d0887"
             ],
             [
              0.1111111111111111,
              "#46039f"
             ],
             [
              0.2222222222222222,
              "#7201a8"
             ],
             [
              0.3333333333333333,
              "#9c179e"
             ],
             [
              0.4444444444444444,
              "#bd3786"
             ],
             [
              0.5555555555555556,
              "#d8576b"
             ],
             [
              0.6666666666666666,
              "#ed7953"
             ],
             [
              0.7777777777777778,
              "#fb9f3a"
             ],
             [
              0.8888888888888888,
              "#fdca26"
             ],
             [
              1,
              "#f0f921"
             ]
            ],
            "type": "heatmap"
           }
          ],
          "heatmapgl": [
           {
            "colorbar": {
             "outlinewidth": 0,
             "ticks": ""
            },
            "colorscale": [
             [
              0,
              "#0d0887"
             ],
             [
              0.1111111111111111,
              "#46039f"
             ],
             [
              0.2222222222222222,
              "#7201a8"
             ],
             [
              0.3333333333333333,
              "#9c179e"
             ],
             [
              0.4444444444444444,
              "#bd3786"
             ],
             [
              0.5555555555555556,
              "#d8576b"
             ],
             [
              0.6666666666666666,
              "#ed7953"
             ],
             [
              0.7777777777777778,
              "#fb9f3a"
             ],
             [
              0.8888888888888888,
              "#fdca26"
             ],
             [
              1,
              "#f0f921"
             ]
            ],
            "type": "heatmapgl"
           }
          ],
          "histogram": [
           {
            "marker": {
             "colorbar": {
              "outlinewidth": 0,
              "ticks": ""
             }
            },
            "type": "histogram"
           }
          ],
          "histogram2d": [
           {
            "colorbar": {
             "outlinewidth": 0,
             "ticks": ""
            },
            "colorscale": [
             [
              0,
              "#0d0887"
             ],
             [
              0.1111111111111111,
              "#46039f"
             ],
             [
              0.2222222222222222,
              "#7201a8"
             ],
             [
              0.3333333333333333,
              "#9c179e"
             ],
             [
              0.4444444444444444,
              "#bd3786"
             ],
             [
              0.5555555555555556,
              "#d8576b"
             ],
             [
              0.6666666666666666,
              "#ed7953"
             ],
             [
              0.7777777777777778,
              "#fb9f3a"
             ],
             [
              0.8888888888888888,
              "#fdca26"
             ],
             [
              1,
              "#f0f921"
             ]
            ],
            "type": "histogram2d"
           }
          ],
          "histogram2dcontour": [
           {
            "colorbar": {
             "outlinewidth": 0,
             "ticks": ""
            },
            "colorscale": [
             [
              0,
              "#0d0887"
             ],
             [
              0.1111111111111111,
              "#46039f"
             ],
             [
              0.2222222222222222,
              "#7201a8"
             ],
             [
              0.3333333333333333,
              "#9c179e"
             ],
             [
              0.4444444444444444,
              "#bd3786"
             ],
             [
              0.5555555555555556,
              "#d8576b"
             ],
             [
              0.6666666666666666,
              "#ed7953"
             ],
             [
              0.7777777777777778,
              "#fb9f3a"
             ],
             [
              0.8888888888888888,
              "#fdca26"
             ],
             [
              1,
              "#f0f921"
             ]
            ],
            "type": "histogram2dcontour"
           }
          ],
          "mesh3d": [
           {
            "colorbar": {
             "outlinewidth": 0,
             "ticks": ""
            },
            "type": "mesh3d"
           }
          ],
          "parcoords": [
           {
            "line": {
             "colorbar": {
              "outlinewidth": 0,
              "ticks": ""
             }
            },
            "type": "parcoords"
           }
          ],
          "pie": [
           {
            "automargin": true,
            "type": "pie"
           }
          ],
          "scatter": [
           {
            "marker": {
             "colorbar": {
              "outlinewidth": 0,
              "ticks": ""
             }
            },
            "type": "scatter"
           }
          ],
          "scatter3d": [
           {
            "line": {
             "colorbar": {
              "outlinewidth": 0,
              "ticks": ""
             }
            },
            "marker": {
             "colorbar": {
              "outlinewidth": 0,
              "ticks": ""
             }
            },
            "type": "scatter3d"
           }
          ],
          "scattercarpet": [
           {
            "marker": {
             "colorbar": {
              "outlinewidth": 0,
              "ticks": ""
             }
            },
            "type": "scattercarpet"
           }
          ],
          "scattergeo": [
           {
            "marker": {
             "colorbar": {
              "outlinewidth": 0,
              "ticks": ""
             }
            },
            "type": "scattergeo"
           }
          ],
          "scattergl": [
           {
            "marker": {
             "colorbar": {
              "outlinewidth": 0,
              "ticks": ""
             }
            },
            "type": "scattergl"
           }
          ],
          "scattermapbox": [
           {
            "marker": {
             "colorbar": {
              "outlinewidth": 0,
              "ticks": ""
             }
            },
            "type": "scattermapbox"
           }
          ],
          "scatterpolar": [
           {
            "marker": {
             "colorbar": {
              "outlinewidth": 0,
              "ticks": ""
             }
            },
            "type": "scatterpolar"
           }
          ],
          "scatterpolargl": [
           {
            "marker": {
             "colorbar": {
              "outlinewidth": 0,
              "ticks": ""
             }
            },
            "type": "scatterpolargl"
           }
          ],
          "scatterternary": [
           {
            "marker": {
             "colorbar": {
              "outlinewidth": 0,
              "ticks": ""
             }
            },
            "type": "scatterternary"
           }
          ],
          "surface": [
           {
            "colorbar": {
             "outlinewidth": 0,
             "ticks": ""
            },
            "colorscale": [
             [
              0,
              "#0d0887"
             ],
             [
              0.1111111111111111,
              "#46039f"
             ],
             [
              0.2222222222222222,
              "#7201a8"
             ],
             [
              0.3333333333333333,
              "#9c179e"
             ],
             [
              0.4444444444444444,
              "#bd3786"
             ],
             [
              0.5555555555555556,
              "#d8576b"
             ],
             [
              0.6666666666666666,
              "#ed7953"
             ],
             [
              0.7777777777777778,
              "#fb9f3a"
             ],
             [
              0.8888888888888888,
              "#fdca26"
             ],
             [
              1,
              "#f0f921"
             ]
            ],
            "type": "surface"
           }
          ],
          "table": [
           {
            "cells": {
             "fill": {
              "color": "#EBF0F8"
             },
             "line": {
              "color": "white"
             }
            },
            "header": {
             "fill": {
              "color": "#C8D4E3"
             },
             "line": {
              "color": "white"
             }
            },
            "type": "table"
           }
          ]
         },
         "layout": {
          "annotationdefaults": {
           "arrowcolor": "#2a3f5f",
           "arrowhead": 0,
           "arrowwidth": 1
          },
          "autotypenumbers": "strict",
          "coloraxis": {
           "colorbar": {
            "outlinewidth": 0,
            "ticks": ""
           }
          },
          "colorscale": {
           "diverging": [
            [
             0,
             "#8e0152"
            ],
            [
             0.1,
             "#c51b7d"
            ],
            [
             0.2,
             "#de77ae"
            ],
            [
             0.3,
             "#f1b6da"
            ],
            [
             0.4,
             "#fde0ef"
            ],
            [
             0.5,
             "#f7f7f7"
            ],
            [
             0.6,
             "#e6f5d0"
            ],
            [
             0.7,
             "#b8e186"
            ],
            [
             0.8,
             "#7fbc41"
            ],
            [
             0.9,
             "#4d9221"
            ],
            [
             1,
             "#276419"
            ]
           ],
           "sequential": [
            [
             0,
             "#0d0887"
            ],
            [
             0.1111111111111111,
             "#46039f"
            ],
            [
             0.2222222222222222,
             "#7201a8"
            ],
            [
             0.3333333333333333,
             "#9c179e"
            ],
            [
             0.4444444444444444,
             "#bd3786"
            ],
            [
             0.5555555555555556,
             "#d8576b"
            ],
            [
             0.6666666666666666,
             "#ed7953"
            ],
            [
             0.7777777777777778,
             "#fb9f3a"
            ],
            [
             0.8888888888888888,
             "#fdca26"
            ],
            [
             1,
             "#f0f921"
            ]
           ],
           "sequentialminus": [
            [
             0,
             "#0d0887"
            ],
            [
             0.1111111111111111,
             "#46039f"
            ],
            [
             0.2222222222222222,
             "#7201a8"
            ],
            [
             0.3333333333333333,
             "#9c179e"
            ],
            [
             0.4444444444444444,
             "#bd3786"
            ],
            [
             0.5555555555555556,
             "#d8576b"
            ],
            [
             0.6666666666666666,
             "#ed7953"
            ],
            [
             0.7777777777777778,
             "#fb9f3a"
            ],
            [
             0.8888888888888888,
             "#fdca26"
            ],
            [
             1,
             "#f0f921"
            ]
           ]
          },
          "colorway": [
           "#636efa",
           "#EF553B",
           "#00cc96",
           "#ab63fa",
           "#FFA15A",
           "#19d3f3",
           "#FF6692",
           "#B6E880",
           "#FF97FF",
           "#FECB52"
          ],
          "font": {
           "color": "#2a3f5f"
          },
          "geo": {
           "bgcolor": "white",
           "lakecolor": "white",
           "landcolor": "#E5ECF6",
           "showlakes": true,
           "showland": true,
           "subunitcolor": "white"
          },
          "hoverlabel": {
           "align": "left"
          },
          "hovermode": "closest",
          "mapbox": {
           "style": "light"
          },
          "paper_bgcolor": "white",
          "plot_bgcolor": "#E5ECF6",
          "polar": {
           "angularaxis": {
            "gridcolor": "white",
            "linecolor": "white",
            "ticks": ""
           },
           "bgcolor": "#E5ECF6",
           "radialaxis": {
            "gridcolor": "white",
            "linecolor": "white",
            "ticks": ""
           }
          },
          "scene": {
           "xaxis": {
            "backgroundcolor": "#E5ECF6",
            "gridcolor": "white",
            "gridwidth": 2,
            "linecolor": "white",
            "showbackground": true,
            "ticks": "",
            "zerolinecolor": "white"
           },
           "yaxis": {
            "backgroundcolor": "#E5ECF6",
            "gridcolor": "white",
            "gridwidth": 2,
            "linecolor": "white",
            "showbackground": true,
            "ticks": "",
            "zerolinecolor": "white"
           },
           "zaxis": {
            "backgroundcolor": "#E5ECF6",
            "gridcolor": "white",
            "gridwidth": 2,
            "linecolor": "white",
            "showbackground": true,
            "ticks": "",
            "zerolinecolor": "white"
           }
          },
          "shapedefaults": {
           "line": {
            "color": "#2a3f5f"
           }
          },
          "ternary": {
           "aaxis": {
            "gridcolor": "white",
            "linecolor": "white",
            "ticks": ""
           },
           "baxis": {
            "gridcolor": "white",
            "linecolor": "white",
            "ticks": ""
           },
           "bgcolor": "#E5ECF6",
           "caxis": {
            "gridcolor": "white",
            "linecolor": "white",
            "ticks": ""
           }
          },
          "title": {
           "x": 0.05
          },
          "xaxis": {
           "automargin": true,
           "gridcolor": "white",
           "linecolor": "white",
           "ticks": "",
           "title": {
            "standoff": 15
           },
           "zerolinecolor": "white",
           "zerolinewidth": 2
          },
          "yaxis": {
           "automargin": true,
           "gridcolor": "white",
           "linecolor": "white",
           "ticks": "",
           "title": {
            "standoff": 15
           },
           "zerolinecolor": "white",
           "zerolinewidth": 2
          }
         }
        },
        "title": {
         "text": "Accuracies for Different Hyper-Parameters",
         "x": 0.7,
         "xanchor": "center",
         "yanchor": "top"
        },
        "xaxis": {
         "anchor": "y",
         "domain": [
          0,
          1
         ],
         "title": {
          "text": "Parameters"
         }
        },
        "yaxis": {
         "anchor": "x",
         "domain": [
          0,
          1
         ],
         "title": {
          "text": "Accuracy"
         }
        }
       }
      },
      "text/html": [
       "<div>                            <div id=\"026cec3e-f483-4942-9b9b-313dafb4f600\" class=\"plotly-graph-div\" style=\"height:525px; width:100%;\"></div>            <script type=\"text/javascript\">                require([\"plotly\"], function(Plotly) {                    window.PLOTLYENV=window.PLOTLYENV || {};                                    if (document.getElementById(\"026cec3e-f483-4942-9b9b-313dafb4f600\")) {                    Plotly.newPlot(                        \"026cec3e-f483-4942-9b9b-313dafb4f600\",                        [{\"hovertemplate\": \"Parameters=%{x}<br>Accuracy=%{y}<extra></extra>\", \"legendgroup\": \"\", \"line\": {\"color\": \"#636efa\", \"dash\": \"solid\"}, \"mode\": \"lines\", \"name\": \"\", \"orientation\": \"v\", \"showlegend\": false, \"type\": \"scatter\", \"x\": [\"7/uniform/euclidean\", \"7/uniform/manhattan\", \"7/distance/euclidean\", \"7/distance/manhattan\", \"15/uniform/euclidean\", \"15/uniform/manhattan\", \"15/distance/euclidean\", \"15/distance/manhattan\", \"45/uniform/euclidean\", \"45/uniform/manhattan\", \"45/distance/euclidean\", \"45/distance/manhattan\", \"135/uniform/euclidean\", \"135/uniform/manhattan\", \"135/distance/euclidean\", \"135/distance/manhattan\"], \"xaxis\": \"x\", \"y\": [0.9151969981238274, 0.9298311444652908, 0.9148217636022514, 0.9290806754221388, 0.9110694183864916, 0.9275797373358349, 0.9155722326454033, 0.9313320825515947, 0.9602251407129456, 0.9440900562851783, 0.9534709193245778, 0.9392120075046905, 0.9636022514071294, 0.9632270168855535, 0.9636022514071294, 0.9632270168855535], \"yaxis\": \"y\"}],                        {\"legend\": {\"tracegroupgap\": 0}, \"margin\": {\"t\": 60}, \"template\": {\"data\": {\"bar\": [{\"error_x\": {\"color\": \"#2a3f5f\"}, \"error_y\": {\"color\": \"#2a3f5f\"}, \"marker\": {\"line\": {\"color\": \"#E5ECF6\", \"width\": 0.5}}, \"type\": \"bar\"}], \"barpolar\": [{\"marker\": {\"line\": {\"color\": \"#E5ECF6\", \"width\": 0.5}}, \"type\": \"barpolar\"}], \"carpet\": [{\"aaxis\": {\"endlinecolor\": \"#2a3f5f\", \"gridcolor\": \"white\", \"linecolor\": \"white\", \"minorgridcolor\": \"white\", \"startlinecolor\": \"#2a3f5f\"}, \"baxis\": {\"endlinecolor\": \"#2a3f5f\", \"gridcolor\": \"white\", \"linecolor\": \"white\", \"minorgridcolor\": \"white\", \"startlinecolor\": \"#2a3f5f\"}, \"type\": \"carpet\"}], \"choropleth\": [{\"colorbar\": {\"outlinewidth\": 0, \"ticks\": \"\"}, \"type\": \"choropleth\"}], \"contour\": [{\"colorbar\": {\"outlinewidth\": 0, \"ticks\": \"\"}, \"colorscale\": [[0.0, \"#0d0887\"], [0.1111111111111111, \"#46039f\"], [0.2222222222222222, \"#7201a8\"], [0.3333333333333333, \"#9c179e\"], [0.4444444444444444, \"#bd3786\"], [0.5555555555555556, \"#d8576b\"], [0.6666666666666666, \"#ed7953\"], [0.7777777777777778, \"#fb9f3a\"], [0.8888888888888888, \"#fdca26\"], [1.0, \"#f0f921\"]], \"type\": \"contour\"}], \"contourcarpet\": [{\"colorbar\": {\"outlinewidth\": 0, \"ticks\": \"\"}, \"type\": \"contourcarpet\"}], \"heatmap\": [{\"colorbar\": {\"outlinewidth\": 0, \"ticks\": \"\"}, \"colorscale\": [[0.0, \"#0d0887\"], [0.1111111111111111, \"#46039f\"], [0.2222222222222222, \"#7201a8\"], [0.3333333333333333, \"#9c179e\"], [0.4444444444444444, \"#bd3786\"], [0.5555555555555556, \"#d8576b\"], [0.6666666666666666, \"#ed7953\"], [0.7777777777777778, \"#fb9f3a\"], [0.8888888888888888, \"#fdca26\"], [1.0, \"#f0f921\"]], \"type\": \"heatmap\"}], \"heatmapgl\": [{\"colorbar\": {\"outlinewidth\": 0, \"ticks\": \"\"}, \"colorscale\": [[0.0, \"#0d0887\"], [0.1111111111111111, \"#46039f\"], [0.2222222222222222, \"#7201a8\"], [0.3333333333333333, \"#9c179e\"], [0.4444444444444444, \"#bd3786\"], [0.5555555555555556, \"#d8576b\"], [0.6666666666666666, \"#ed7953\"], [0.7777777777777778, \"#fb9f3a\"], [0.8888888888888888, \"#fdca26\"], [1.0, \"#f0f921\"]], \"type\": \"heatmapgl\"}], \"histogram\": [{\"marker\": {\"colorbar\": {\"outlinewidth\": 0, \"ticks\": \"\"}}, \"type\": \"histogram\"}], \"histogram2d\": [{\"colorbar\": {\"outlinewidth\": 0, \"ticks\": \"\"}, \"colorscale\": [[0.0, \"#0d0887\"], [0.1111111111111111, \"#46039f\"], [0.2222222222222222, \"#7201a8\"], [0.3333333333333333, \"#9c179e\"], [0.4444444444444444, \"#bd3786\"], [0.5555555555555556, \"#d8576b\"], [0.6666666666666666, \"#ed7953\"], [0.7777777777777778, \"#fb9f3a\"], [0.8888888888888888, \"#fdca26\"], [1.0, \"#f0f921\"]], \"type\": \"histogram2d\"}], \"histogram2dcontour\": [{\"colorbar\": {\"outlinewidth\": 0, \"ticks\": \"\"}, \"colorscale\": [[0.0, \"#0d0887\"], [0.1111111111111111, \"#46039f\"], [0.2222222222222222, \"#7201a8\"], [0.3333333333333333, \"#9c179e\"], [0.4444444444444444, \"#bd3786\"], [0.5555555555555556, \"#d8576b\"], [0.6666666666666666, \"#ed7953\"], [0.7777777777777778, \"#fb9f3a\"], [0.8888888888888888, \"#fdca26\"], [1.0, \"#f0f921\"]], \"type\": \"histogram2dcontour\"}], \"mesh3d\": [{\"colorbar\": {\"outlinewidth\": 0, \"ticks\": \"\"}, \"type\": \"mesh3d\"}], \"parcoords\": [{\"line\": {\"colorbar\": {\"outlinewidth\": 0, \"ticks\": \"\"}}, \"type\": \"parcoords\"}], \"pie\": [{\"automargin\": true, \"type\": \"pie\"}], \"scatter\": [{\"marker\": {\"colorbar\": {\"outlinewidth\": 0, \"ticks\": \"\"}}, \"type\": \"scatter\"}], \"scatter3d\": [{\"line\": {\"colorbar\": {\"outlinewidth\": 0, \"ticks\": \"\"}}, \"marker\": {\"colorbar\": {\"outlinewidth\": 0, \"ticks\": \"\"}}, \"type\": \"scatter3d\"}], \"scattercarpet\": [{\"marker\": {\"colorbar\": {\"outlinewidth\": 0, \"ticks\": \"\"}}, \"type\": \"scattercarpet\"}], \"scattergeo\": [{\"marker\": {\"colorbar\": {\"outlinewidth\": 0, \"ticks\": \"\"}}, \"type\": \"scattergeo\"}], \"scattergl\": [{\"marker\": {\"colorbar\": {\"outlinewidth\": 0, \"ticks\": \"\"}}, \"type\": \"scattergl\"}], \"scattermapbox\": [{\"marker\": {\"colorbar\": {\"outlinewidth\": 0, \"ticks\": \"\"}}, \"type\": \"scattermapbox\"}], \"scatterpolar\": [{\"marker\": {\"colorbar\": {\"outlinewidth\": 0, \"ticks\": \"\"}}, \"type\": \"scatterpolar\"}], \"scatterpolargl\": [{\"marker\": {\"colorbar\": {\"outlinewidth\": 0, \"ticks\": \"\"}}, \"type\": \"scatterpolargl\"}], \"scatterternary\": [{\"marker\": {\"colorbar\": {\"outlinewidth\": 0, \"ticks\": \"\"}}, \"type\": \"scatterternary\"}], \"surface\": [{\"colorbar\": {\"outlinewidth\": 0, \"ticks\": \"\"}, \"colorscale\": [[0.0, \"#0d0887\"], [0.1111111111111111, \"#46039f\"], [0.2222222222222222, \"#7201a8\"], [0.3333333333333333, \"#9c179e\"], [0.4444444444444444, \"#bd3786\"], [0.5555555555555556, \"#d8576b\"], [0.6666666666666666, \"#ed7953\"], [0.7777777777777778, \"#fb9f3a\"], [0.8888888888888888, \"#fdca26\"], [1.0, \"#f0f921\"]], \"type\": \"surface\"}], \"table\": [{\"cells\": {\"fill\": {\"color\": \"#EBF0F8\"}, \"line\": {\"color\": \"white\"}}, \"header\": {\"fill\": {\"color\": \"#C8D4E3\"}, \"line\": {\"color\": \"white\"}}, \"type\": \"table\"}]}, \"layout\": {\"annotationdefaults\": {\"arrowcolor\": \"#2a3f5f\", \"arrowhead\": 0, \"arrowwidth\": 1}, \"autotypenumbers\": \"strict\", \"coloraxis\": {\"colorbar\": {\"outlinewidth\": 0, \"ticks\": \"\"}}, \"colorscale\": {\"diverging\": [[0, \"#8e0152\"], [0.1, \"#c51b7d\"], [0.2, \"#de77ae\"], [0.3, \"#f1b6da\"], [0.4, \"#fde0ef\"], [0.5, \"#f7f7f7\"], [0.6, \"#e6f5d0\"], [0.7, \"#b8e186\"], [0.8, \"#7fbc41\"], [0.9, \"#4d9221\"], [1, \"#276419\"]], \"sequential\": [[0.0, \"#0d0887\"], [0.1111111111111111, \"#46039f\"], [0.2222222222222222, \"#7201a8\"], [0.3333333333333333, \"#9c179e\"], [0.4444444444444444, \"#bd3786\"], [0.5555555555555556, \"#d8576b\"], [0.6666666666666666, \"#ed7953\"], [0.7777777777777778, \"#fb9f3a\"], [0.8888888888888888, \"#fdca26\"], [1.0, \"#f0f921\"]], \"sequentialminus\": [[0.0, \"#0d0887\"], [0.1111111111111111, \"#46039f\"], [0.2222222222222222, \"#7201a8\"], [0.3333333333333333, \"#9c179e\"], [0.4444444444444444, \"#bd3786\"], [0.5555555555555556, \"#d8576b\"], [0.6666666666666666, \"#ed7953\"], [0.7777777777777778, \"#fb9f3a\"], [0.8888888888888888, \"#fdca26\"], [1.0, \"#f0f921\"]]}, \"colorway\": [\"#636efa\", \"#EF553B\", \"#00cc96\", \"#ab63fa\", \"#FFA15A\", \"#19d3f3\", \"#FF6692\", \"#B6E880\", \"#FF97FF\", \"#FECB52\"], \"font\": {\"color\": \"#2a3f5f\"}, \"geo\": {\"bgcolor\": \"white\", \"lakecolor\": \"white\", \"landcolor\": \"#E5ECF6\", \"showlakes\": true, \"showland\": true, \"subunitcolor\": \"white\"}, \"hoverlabel\": {\"align\": \"left\"}, \"hovermode\": \"closest\", \"mapbox\": {\"style\": \"light\"}, \"paper_bgcolor\": \"white\", \"plot_bgcolor\": \"#E5ECF6\", \"polar\": {\"angularaxis\": {\"gridcolor\": \"white\", \"linecolor\": \"white\", \"ticks\": \"\"}, \"bgcolor\": \"#E5ECF6\", \"radialaxis\": {\"gridcolor\": \"white\", \"linecolor\": \"white\", \"ticks\": \"\"}}, \"scene\": {\"xaxis\": {\"backgroundcolor\": \"#E5ECF6\", \"gridcolor\": \"white\", \"gridwidth\": 2, \"linecolor\": \"white\", \"showbackground\": true, \"ticks\": \"\", \"zerolinecolor\": \"white\"}, \"yaxis\": {\"backgroundcolor\": \"#E5ECF6\", \"gridcolor\": \"white\", \"gridwidth\": 2, \"linecolor\": \"white\", \"showbackground\": true, \"ticks\": \"\", \"zerolinecolor\": \"white\"}, \"zaxis\": {\"backgroundcolor\": \"#E5ECF6\", \"gridcolor\": \"white\", \"gridwidth\": 2, \"linecolor\": \"white\", \"showbackground\": true, \"ticks\": \"\", \"zerolinecolor\": \"white\"}}, \"shapedefaults\": {\"line\": {\"color\": \"#2a3f5f\"}}, \"ternary\": {\"aaxis\": {\"gridcolor\": \"white\", \"linecolor\": \"white\", \"ticks\": \"\"}, \"baxis\": {\"gridcolor\": \"white\", \"linecolor\": \"white\", \"ticks\": \"\"}, \"bgcolor\": \"#E5ECF6\", \"caxis\": {\"gridcolor\": \"white\", \"linecolor\": \"white\", \"ticks\": \"\"}}, \"title\": {\"x\": 0.05}, \"xaxis\": {\"automargin\": true, \"gridcolor\": \"white\", \"linecolor\": \"white\", \"ticks\": \"\", \"title\": {\"standoff\": 15}, \"zerolinecolor\": \"white\", \"zerolinewidth\": 2}, \"yaxis\": {\"automargin\": true, \"gridcolor\": \"white\", \"linecolor\": \"white\", \"ticks\": \"\", \"title\": {\"standoff\": 15}, \"zerolinecolor\": \"white\", \"zerolinewidth\": 2}}}, \"title\": {\"text\": \"Accuracies for Different Hyper-Parameters\", \"x\": 0.7, \"xanchor\": \"center\", \"yanchor\": \"top\"}, \"xaxis\": {\"anchor\": \"y\", \"domain\": [0.0, 1.0], \"title\": {\"text\": \"Parameters\"}}, \"yaxis\": {\"anchor\": \"x\", \"domain\": [0.0, 1.0], \"title\": {\"text\": \"Accuracy\"}}},                        {\"responsive\": true}                    ).then(function(){\n",
       "                            \n",
       "var gd = document.getElementById('026cec3e-f483-4942-9b9b-313dafb4f600');\n",
       "var x = new MutationObserver(function (mutations, observer) {{\n",
       "        var display = window.getComputedStyle(gd).display;\n",
       "        if (!display || display === 'none') {{\n",
       "            console.log([gd, 'removed!']);\n",
       "            Plotly.purge(gd);\n",
       "            observer.disconnect();\n",
       "        }}\n",
       "}});\n",
       "\n",
       "// Listen for the removal of the full notebook cells\n",
       "var notebookContainer = gd.closest('#notebook-container');\n",
       "if (notebookContainer) {{\n",
       "    x.observe(notebookContainer, {childList: true});\n",
       "}}\n",
       "\n",
       "// Listen for the clearing of the current output cell\n",
       "var outputEl = gd.closest('.output');\n",
       "if (outputEl) {{\n",
       "    x.observe(outputEl, {childList: true});\n",
       "}}\n",
       "\n",
       "                        })                };                });            </script>        </div>"
      ]
     },
     "metadata": {},
     "output_type": "display_data"
    }
   ],
   "source": [
    "plotdata = pd.DataFrame()\n",
    "plotdata['Parameters'] = accuracies.keys()\n",
    "plotdata['Accuracy'] = accuracies.values()\n",
    "fig = px.line(plotdata, x=\"Parameters\", y=\"Accuracy\")\n",
    "fig.update_layout(title={'text': \"Accuracies for Different Hyper-Parameters\",\n",
    "                                                'x':0.7,\n",
    "                                                'xanchor': 'center',\n",
    "                                                'yanchor': 'top'})\n",
    "iplot(fig)"
   ]
  },
  {
   "cell_type": "code",
   "execution_count": 23,
   "id": "ranging-representation",
   "metadata": {},
   "outputs": [],
   "source": [
    "max_abs_scaler = MaxAbsScaler()\n",
    "columns = ['Temperature', 'Humidity', 'Light', 'CO2', 'HumidityRatio']\n",
    "max_abs_scaler.fit(np.array(datatraining[columns])) #transformation in numpy arrays in order to feed the scaler\n",
    "datatest_copy[columns] = max_abs_scaler.transform(np.array(datatest_copy[columns]))\n",
    "datatest2_copy[columns] = max_abs_scaler.transform(np.array(datatest2_copy[columns]))\n",
    "datatraining_copy[columns] = max_abs_scaler.transform(np.array(datatraining_copy[columns]))"
   ]
  },
  {
   "cell_type": "code",
   "execution_count": 24,
   "id": "spanish-recruitment",
   "metadata": {},
   "outputs": [],
   "source": [
    "X_train_copy = datatraining_copy.drop(columns=['date', 'Occupancy'], axis=1)\n",
    "y_train_copy = datatraining_copy['Occupancy']\n",
    "X_validation_copy = datatest_copy.drop(columns=['date', 'Occupancy'], axis=1)\n",
    "y_validation_copy = datatest_copy['Occupancy']\n",
    "X_test_copy = datatest2_copy.drop(columns=['date', 'Occupancy'], axis=1)\n",
    "y_test_copy = datatest2_copy['Occupancy']"
   ]
  },
  {
   "cell_type": "code",
   "execution_count": 25,
   "id": "broken-store",
   "metadata": {},
   "outputs": [],
   "source": [
    "# parameter-tuning for knn\n",
    "n_neighbors_list = [7,15,45,135]\n",
    "weights_list = ['uniform', 'distance']\n",
    "metric_list = ['euclidean', 'cosine']\n",
    "accuracies_2 = {}\n",
    "for n in n_neighbors_list:\n",
    "    for weight in weights_list:\n",
    "        for metric in metric_list:\n",
    "            knn_model = KNeighborsClassifier(n_neighbors=n, weights=weight, metric=metric)\n",
    "            knn_model.fit(X_train_copy, y_train_copy)\n",
    "            accuracy_2 = knn_model.score(X_validation_copy, y_validation_copy)\n",
    "            accuracies_2[str(n)+\"/\"+weight+\"/\"+metric] = accuracy_2"
   ]
  },
  {
   "cell_type": "code",
   "execution_count": 26,
   "id": "directed-active",
   "metadata": {},
   "outputs": [
    {
     "data": {
      "application/vnd.plotly.v1+json": {
       "config": {
        "linkText": "Export to plot.ly",
        "plotlyServerURL": "https://plot.ly",
        "showLink": false
       },
       "data": [
        {
         "hovertemplate": "Parameters=%{x}<br>Accuracy=%{y}<extra></extra>",
         "legendgroup": "",
         "line": {
          "color": "#636efa",
          "dash": "solid"
         },
         "mode": "lines",
         "name": "",
         "orientation": "v",
         "showlegend": false,
         "type": "scatter",
         "x": [
          "7/uniform/euclidean",
          "7/uniform/cosine",
          "7/distance/euclidean",
          "7/distance/cosine",
          "15/uniform/euclidean",
          "15/uniform/cosine",
          "15/distance/euclidean",
          "15/distance/cosine",
          "45/uniform/euclidean",
          "45/uniform/cosine",
          "45/distance/euclidean",
          "45/distance/cosine",
          "135/uniform/euclidean",
          "135/uniform/cosine",
          "135/distance/euclidean",
          "135/distance/cosine"
         ],
         "xaxis": "x",
         "y": [
          0.9609756097560975,
          0.9684803001876172,
          0.9470919324577861,
          0.9579737335834897,
          0.9696060037523452,
          0.9718574108818011,
          0.9628517823639775,
          0.9669793621013133,
          0.9782363977485928,
          0.9681050656660413,
          0.9782363977485928,
          0.9696060037523452,
          0.9782363977485928,
          0.9703564727954972,
          0.9778611632270169,
          0.9692307692307692
         ],
         "yaxis": "y"
        }
       ],
       "layout": {
        "legend": {
         "tracegroupgap": 0
        },
        "margin": {
         "t": 60
        },
        "template": {
         "data": {
          "bar": [
           {
            "error_x": {
             "color": "#2a3f5f"
            },
            "error_y": {
             "color": "#2a3f5f"
            },
            "marker": {
             "line": {
              "color": "#E5ECF6",
              "width": 0.5
             }
            },
            "type": "bar"
           }
          ],
          "barpolar": [
           {
            "marker": {
             "line": {
              "color": "#E5ECF6",
              "width": 0.5
             }
            },
            "type": "barpolar"
           }
          ],
          "carpet": [
           {
            "aaxis": {
             "endlinecolor": "#2a3f5f",
             "gridcolor": "white",
             "linecolor": "white",
             "minorgridcolor": "white",
             "startlinecolor": "#2a3f5f"
            },
            "baxis": {
             "endlinecolor": "#2a3f5f",
             "gridcolor": "white",
             "linecolor": "white",
             "minorgridcolor": "white",
             "startlinecolor": "#2a3f5f"
            },
            "type": "carpet"
           }
          ],
          "choropleth": [
           {
            "colorbar": {
             "outlinewidth": 0,
             "ticks": ""
            },
            "type": "choropleth"
           }
          ],
          "contour": [
           {
            "colorbar": {
             "outlinewidth": 0,
             "ticks": ""
            },
            "colorscale": [
             [
              0,
              "#0d0887"
             ],
             [
              0.1111111111111111,
              "#46039f"
             ],
             [
              0.2222222222222222,
              "#7201a8"
             ],
             [
              0.3333333333333333,
              "#9c179e"
             ],
             [
              0.4444444444444444,
              "#bd3786"
             ],
             [
              0.5555555555555556,
              "#d8576b"
             ],
             [
              0.6666666666666666,
              "#ed7953"
             ],
             [
              0.7777777777777778,
              "#fb9f3a"
             ],
             [
              0.8888888888888888,
              "#fdca26"
             ],
             [
              1,
              "#f0f921"
             ]
            ],
            "type": "contour"
           }
          ],
          "contourcarpet": [
           {
            "colorbar": {
             "outlinewidth": 0,
             "ticks": ""
            },
            "type": "contourcarpet"
           }
          ],
          "heatmap": [
           {
            "colorbar": {
             "outlinewidth": 0,
             "ticks": ""
            },
            "colorscale": [
             [
              0,
              "#0d0887"
             ],
             [
              0.1111111111111111,
              "#46039f"
             ],
             [
              0.2222222222222222,
              "#7201a8"
             ],
             [
              0.3333333333333333,
              "#9c179e"
             ],
             [
              0.4444444444444444,
              "#bd3786"
             ],
             [
              0.5555555555555556,
              "#d8576b"
             ],
             [
              0.6666666666666666,
              "#ed7953"
             ],
             [
              0.7777777777777778,
              "#fb9f3a"
             ],
             [
              0.8888888888888888,
              "#fdca26"
             ],
             [
              1,
              "#f0f921"
             ]
            ],
            "type": "heatmap"
           }
          ],
          "heatmapgl": [
           {
            "colorbar": {
             "outlinewidth": 0,
             "ticks": ""
            },
            "colorscale": [
             [
              0,
              "#0d0887"
             ],
             [
              0.1111111111111111,
              "#46039f"
             ],
             [
              0.2222222222222222,
              "#7201a8"
             ],
             [
              0.3333333333333333,
              "#9c179e"
             ],
             [
              0.4444444444444444,
              "#bd3786"
             ],
             [
              0.5555555555555556,
              "#d8576b"
             ],
             [
              0.6666666666666666,
              "#ed7953"
             ],
             [
              0.7777777777777778,
              "#fb9f3a"
             ],
             [
              0.8888888888888888,
              "#fdca26"
             ],
             [
              1,
              "#f0f921"
             ]
            ],
            "type": "heatmapgl"
           }
          ],
          "histogram": [
           {
            "marker": {
             "colorbar": {
              "outlinewidth": 0,
              "ticks": ""
             }
            },
            "type": "histogram"
           }
          ],
          "histogram2d": [
           {
            "colorbar": {
             "outlinewidth": 0,
             "ticks": ""
            },
            "colorscale": [
             [
              0,
              "#0d0887"
             ],
             [
              0.1111111111111111,
              "#46039f"
             ],
             [
              0.2222222222222222,
              "#7201a8"
             ],
             [
              0.3333333333333333,
              "#9c179e"
             ],
             [
              0.4444444444444444,
              "#bd3786"
             ],
             [
              0.5555555555555556,
              "#d8576b"
             ],
             [
              0.6666666666666666,
              "#ed7953"
             ],
             [
              0.7777777777777778,
              "#fb9f3a"
             ],
             [
              0.8888888888888888,
              "#fdca26"
             ],
             [
              1,
              "#f0f921"
             ]
            ],
            "type": "histogram2d"
           }
          ],
          "histogram2dcontour": [
           {
            "colorbar": {
             "outlinewidth": 0,
             "ticks": ""
            },
            "colorscale": [
             [
              0,
              "#0d0887"
             ],
             [
              0.1111111111111111,
              "#46039f"
             ],
             [
              0.2222222222222222,
              "#7201a8"
             ],
             [
              0.3333333333333333,
              "#9c179e"
             ],
             [
              0.4444444444444444,
              "#bd3786"
             ],
             [
              0.5555555555555556,
              "#d8576b"
             ],
             [
              0.6666666666666666,
              "#ed7953"
             ],
             [
              0.7777777777777778,
              "#fb9f3a"
             ],
             [
              0.8888888888888888,
              "#fdca26"
             ],
             [
              1,
              "#f0f921"
             ]
            ],
            "type": "histogram2dcontour"
           }
          ],
          "mesh3d": [
           {
            "colorbar": {
             "outlinewidth": 0,
             "ticks": ""
            },
            "type": "mesh3d"
           }
          ],
          "parcoords": [
           {
            "line": {
             "colorbar": {
              "outlinewidth": 0,
              "ticks": ""
             }
            },
            "type": "parcoords"
           }
          ],
          "pie": [
           {
            "automargin": true,
            "type": "pie"
           }
          ],
          "scatter": [
           {
            "marker": {
             "colorbar": {
              "outlinewidth": 0,
              "ticks": ""
             }
            },
            "type": "scatter"
           }
          ],
          "scatter3d": [
           {
            "line": {
             "colorbar": {
              "outlinewidth": 0,
              "ticks": ""
             }
            },
            "marker": {
             "colorbar": {
              "outlinewidth": 0,
              "ticks": ""
             }
            },
            "type": "scatter3d"
           }
          ],
          "scattercarpet": [
           {
            "marker": {
             "colorbar": {
              "outlinewidth": 0,
              "ticks": ""
             }
            },
            "type": "scattercarpet"
           }
          ],
          "scattergeo": [
           {
            "marker": {
             "colorbar": {
              "outlinewidth": 0,
              "ticks": ""
             }
            },
            "type": "scattergeo"
           }
          ],
          "scattergl": [
           {
            "marker": {
             "colorbar": {
              "outlinewidth": 0,
              "ticks": ""
             }
            },
            "type": "scattergl"
           }
          ],
          "scattermapbox": [
           {
            "marker": {
             "colorbar": {
              "outlinewidth": 0,
              "ticks": ""
             }
            },
            "type": "scattermapbox"
           }
          ],
          "scatterpolar": [
           {
            "marker": {
             "colorbar": {
              "outlinewidth": 0,
              "ticks": ""
             }
            },
            "type": "scatterpolar"
           }
          ],
          "scatterpolargl": [
           {
            "marker": {
             "colorbar": {
              "outlinewidth": 0,
              "ticks": ""
             }
            },
            "type": "scatterpolargl"
           }
          ],
          "scatterternary": [
           {
            "marker": {
             "colorbar": {
              "outlinewidth": 0,
              "ticks": ""
             }
            },
            "type": "scatterternary"
           }
          ],
          "surface": [
           {
            "colorbar": {
             "outlinewidth": 0,
             "ticks": ""
            },
            "colorscale": [
             [
              0,
              "#0d0887"
             ],
             [
              0.1111111111111111,
              "#46039f"
             ],
             [
              0.2222222222222222,
              "#7201a8"
             ],
             [
              0.3333333333333333,
              "#9c179e"
             ],
             [
              0.4444444444444444,
              "#bd3786"
             ],
             [
              0.5555555555555556,
              "#d8576b"
             ],
             [
              0.6666666666666666,
              "#ed7953"
             ],
             [
              0.7777777777777778,
              "#fb9f3a"
             ],
             [
              0.8888888888888888,
              "#fdca26"
             ],
             [
              1,
              "#f0f921"
             ]
            ],
            "type": "surface"
           }
          ],
          "table": [
           {
            "cells": {
             "fill": {
              "color": "#EBF0F8"
             },
             "line": {
              "color": "white"
             }
            },
            "header": {
             "fill": {
              "color": "#C8D4E3"
             },
             "line": {
              "color": "white"
             }
            },
            "type": "table"
           }
          ]
         },
         "layout": {
          "annotationdefaults": {
           "arrowcolor": "#2a3f5f",
           "arrowhead": 0,
           "arrowwidth": 1
          },
          "autotypenumbers": "strict",
          "coloraxis": {
           "colorbar": {
            "outlinewidth": 0,
            "ticks": ""
           }
          },
          "colorscale": {
           "diverging": [
            [
             0,
             "#8e0152"
            ],
            [
             0.1,
             "#c51b7d"
            ],
            [
             0.2,
             "#de77ae"
            ],
            [
             0.3,
             "#f1b6da"
            ],
            [
             0.4,
             "#fde0ef"
            ],
            [
             0.5,
             "#f7f7f7"
            ],
            [
             0.6,
             "#e6f5d0"
            ],
            [
             0.7,
             "#b8e186"
            ],
            [
             0.8,
             "#7fbc41"
            ],
            [
             0.9,
             "#4d9221"
            ],
            [
             1,
             "#276419"
            ]
           ],
           "sequential": [
            [
             0,
             "#0d0887"
            ],
            [
             0.1111111111111111,
             "#46039f"
            ],
            [
             0.2222222222222222,
             "#7201a8"
            ],
            [
             0.3333333333333333,
             "#9c179e"
            ],
            [
             0.4444444444444444,
             "#bd3786"
            ],
            [
             0.5555555555555556,
             "#d8576b"
            ],
            [
             0.6666666666666666,
             "#ed7953"
            ],
            [
             0.7777777777777778,
             "#fb9f3a"
            ],
            [
             0.8888888888888888,
             "#fdca26"
            ],
            [
             1,
             "#f0f921"
            ]
           ],
           "sequentialminus": [
            [
             0,
             "#0d0887"
            ],
            [
             0.1111111111111111,
             "#46039f"
            ],
            [
             0.2222222222222222,
             "#7201a8"
            ],
            [
             0.3333333333333333,
             "#9c179e"
            ],
            [
             0.4444444444444444,
             "#bd3786"
            ],
            [
             0.5555555555555556,
             "#d8576b"
            ],
            [
             0.6666666666666666,
             "#ed7953"
            ],
            [
             0.7777777777777778,
             "#fb9f3a"
            ],
            [
             0.8888888888888888,
             "#fdca26"
            ],
            [
             1,
             "#f0f921"
            ]
           ]
          },
          "colorway": [
           "#636efa",
           "#EF553B",
           "#00cc96",
           "#ab63fa",
           "#FFA15A",
           "#19d3f3",
           "#FF6692",
           "#B6E880",
           "#FF97FF",
           "#FECB52"
          ],
          "font": {
           "color": "#2a3f5f"
          },
          "geo": {
           "bgcolor": "white",
           "lakecolor": "white",
           "landcolor": "#E5ECF6",
           "showlakes": true,
           "showland": true,
           "subunitcolor": "white"
          },
          "hoverlabel": {
           "align": "left"
          },
          "hovermode": "closest",
          "mapbox": {
           "style": "light"
          },
          "paper_bgcolor": "white",
          "plot_bgcolor": "#E5ECF6",
          "polar": {
           "angularaxis": {
            "gridcolor": "white",
            "linecolor": "white",
            "ticks": ""
           },
           "bgcolor": "#E5ECF6",
           "radialaxis": {
            "gridcolor": "white",
            "linecolor": "white",
            "ticks": ""
           }
          },
          "scene": {
           "xaxis": {
            "backgroundcolor": "#E5ECF6",
            "gridcolor": "white",
            "gridwidth": 2,
            "linecolor": "white",
            "showbackground": true,
            "ticks": "",
            "zerolinecolor": "white"
           },
           "yaxis": {
            "backgroundcolor": "#E5ECF6",
            "gridcolor": "white",
            "gridwidth": 2,
            "linecolor": "white",
            "showbackground": true,
            "ticks": "",
            "zerolinecolor": "white"
           },
           "zaxis": {
            "backgroundcolor": "#E5ECF6",
            "gridcolor": "white",
            "gridwidth": 2,
            "linecolor": "white",
            "showbackground": true,
            "ticks": "",
            "zerolinecolor": "white"
           }
          },
          "shapedefaults": {
           "line": {
            "color": "#2a3f5f"
           }
          },
          "ternary": {
           "aaxis": {
            "gridcolor": "white",
            "linecolor": "white",
            "ticks": ""
           },
           "baxis": {
            "gridcolor": "white",
            "linecolor": "white",
            "ticks": ""
           },
           "bgcolor": "#E5ECF6",
           "caxis": {
            "gridcolor": "white",
            "linecolor": "white",
            "ticks": ""
           }
          },
          "title": {
           "x": 0.05
          },
          "xaxis": {
           "automargin": true,
           "gridcolor": "white",
           "linecolor": "white",
           "ticks": "",
           "title": {
            "standoff": 15
           },
           "zerolinecolor": "white",
           "zerolinewidth": 2
          },
          "yaxis": {
           "automargin": true,
           "gridcolor": "white",
           "linecolor": "white",
           "ticks": "",
           "title": {
            "standoff": 15
           },
           "zerolinecolor": "white",
           "zerolinewidth": 2
          }
         }
        },
        "title": {
         "text": "Accuracies for Different Hyper-Parameters",
         "xanchor": "center",
         "yanchor": "top"
        },
        "xaxis": {
         "anchor": "y",
         "domain": [
          0,
          1
         ],
         "title": {
          "text": "Parameters"
         }
        },
        "yaxis": {
         "anchor": "x",
         "domain": [
          0,
          1
         ],
         "title": {
          "text": "Accuracy"
         }
        }
       }
      },
      "text/html": [
       "<div>                            <div id=\"e7eb5832-cb79-4899-afee-34520a4093ac\" class=\"plotly-graph-div\" style=\"height:525px; width:100%;\"></div>            <script type=\"text/javascript\">                require([\"plotly\"], function(Plotly) {                    window.PLOTLYENV=window.PLOTLYENV || {};                                    if (document.getElementById(\"e7eb5832-cb79-4899-afee-34520a4093ac\")) {                    Plotly.newPlot(                        \"e7eb5832-cb79-4899-afee-34520a4093ac\",                        [{\"hovertemplate\": \"Parameters=%{x}<br>Accuracy=%{y}<extra></extra>\", \"legendgroup\": \"\", \"line\": {\"color\": \"#636efa\", \"dash\": \"solid\"}, \"mode\": \"lines\", \"name\": \"\", \"orientation\": \"v\", \"showlegend\": false, \"type\": \"scatter\", \"x\": [\"7/uniform/euclidean\", \"7/uniform/cosine\", \"7/distance/euclidean\", \"7/distance/cosine\", \"15/uniform/euclidean\", \"15/uniform/cosine\", \"15/distance/euclidean\", \"15/distance/cosine\", \"45/uniform/euclidean\", \"45/uniform/cosine\", \"45/distance/euclidean\", \"45/distance/cosine\", \"135/uniform/euclidean\", \"135/uniform/cosine\", \"135/distance/euclidean\", \"135/distance/cosine\"], \"xaxis\": \"x\", \"y\": [0.9609756097560975, 0.9684803001876172, 0.9470919324577861, 0.9579737335834897, 0.9696060037523452, 0.9718574108818011, 0.9628517823639775, 0.9669793621013133, 0.9782363977485928, 0.9681050656660413, 0.9782363977485928, 0.9696060037523452, 0.9782363977485928, 0.9703564727954972, 0.9778611632270169, 0.9692307692307692], \"yaxis\": \"y\"}],                        {\"legend\": {\"tracegroupgap\": 0}, \"margin\": {\"t\": 60}, \"template\": {\"data\": {\"bar\": [{\"error_x\": {\"color\": \"#2a3f5f\"}, \"error_y\": {\"color\": \"#2a3f5f\"}, \"marker\": {\"line\": {\"color\": \"#E5ECF6\", \"width\": 0.5}}, \"type\": \"bar\"}], \"barpolar\": [{\"marker\": {\"line\": {\"color\": \"#E5ECF6\", \"width\": 0.5}}, \"type\": \"barpolar\"}], \"carpet\": [{\"aaxis\": {\"endlinecolor\": \"#2a3f5f\", \"gridcolor\": \"white\", \"linecolor\": \"white\", \"minorgridcolor\": \"white\", \"startlinecolor\": \"#2a3f5f\"}, \"baxis\": {\"endlinecolor\": \"#2a3f5f\", \"gridcolor\": \"white\", \"linecolor\": \"white\", \"minorgridcolor\": \"white\", \"startlinecolor\": \"#2a3f5f\"}, \"type\": \"carpet\"}], \"choropleth\": [{\"colorbar\": {\"outlinewidth\": 0, \"ticks\": \"\"}, \"type\": \"choropleth\"}], \"contour\": [{\"colorbar\": {\"outlinewidth\": 0, \"ticks\": \"\"}, \"colorscale\": [[0.0, \"#0d0887\"], [0.1111111111111111, \"#46039f\"], [0.2222222222222222, \"#7201a8\"], [0.3333333333333333, \"#9c179e\"], [0.4444444444444444, \"#bd3786\"], [0.5555555555555556, \"#d8576b\"], [0.6666666666666666, \"#ed7953\"], [0.7777777777777778, \"#fb9f3a\"], [0.8888888888888888, \"#fdca26\"], [1.0, \"#f0f921\"]], \"type\": \"contour\"}], \"contourcarpet\": [{\"colorbar\": {\"outlinewidth\": 0, \"ticks\": \"\"}, \"type\": \"contourcarpet\"}], \"heatmap\": [{\"colorbar\": {\"outlinewidth\": 0, \"ticks\": \"\"}, \"colorscale\": [[0.0, \"#0d0887\"], [0.1111111111111111, \"#46039f\"], [0.2222222222222222, \"#7201a8\"], [0.3333333333333333, \"#9c179e\"], [0.4444444444444444, \"#bd3786\"], [0.5555555555555556, \"#d8576b\"], [0.6666666666666666, \"#ed7953\"], [0.7777777777777778, \"#fb9f3a\"], [0.8888888888888888, \"#fdca26\"], [1.0, \"#f0f921\"]], \"type\": \"heatmap\"}], \"heatmapgl\": [{\"colorbar\": {\"outlinewidth\": 0, \"ticks\": \"\"}, \"colorscale\": [[0.0, \"#0d0887\"], [0.1111111111111111, \"#46039f\"], [0.2222222222222222, \"#7201a8\"], [0.3333333333333333, \"#9c179e\"], [0.4444444444444444, \"#bd3786\"], [0.5555555555555556, \"#d8576b\"], [0.6666666666666666, \"#ed7953\"], [0.7777777777777778, \"#fb9f3a\"], [0.8888888888888888, \"#fdca26\"], [1.0, \"#f0f921\"]], \"type\": \"heatmapgl\"}], \"histogram\": [{\"marker\": {\"colorbar\": {\"outlinewidth\": 0, \"ticks\": \"\"}}, \"type\": \"histogram\"}], \"histogram2d\": [{\"colorbar\": {\"outlinewidth\": 0, \"ticks\": \"\"}, \"colorscale\": [[0.0, \"#0d0887\"], [0.1111111111111111, \"#46039f\"], [0.2222222222222222, \"#7201a8\"], [0.3333333333333333, \"#9c179e\"], [0.4444444444444444, \"#bd3786\"], [0.5555555555555556, \"#d8576b\"], [0.6666666666666666, \"#ed7953\"], [0.7777777777777778, \"#fb9f3a\"], [0.8888888888888888, \"#fdca26\"], [1.0, \"#f0f921\"]], \"type\": \"histogram2d\"}], \"histogram2dcontour\": [{\"colorbar\": {\"outlinewidth\": 0, \"ticks\": \"\"}, \"colorscale\": [[0.0, \"#0d0887\"], [0.1111111111111111, \"#46039f\"], [0.2222222222222222, \"#7201a8\"], [0.3333333333333333, \"#9c179e\"], [0.4444444444444444, \"#bd3786\"], [0.5555555555555556, \"#d8576b\"], [0.6666666666666666, \"#ed7953\"], [0.7777777777777778, \"#fb9f3a\"], [0.8888888888888888, \"#fdca26\"], [1.0, \"#f0f921\"]], \"type\": \"histogram2dcontour\"}], \"mesh3d\": [{\"colorbar\": {\"outlinewidth\": 0, \"ticks\": \"\"}, \"type\": \"mesh3d\"}], \"parcoords\": [{\"line\": {\"colorbar\": {\"outlinewidth\": 0, \"ticks\": \"\"}}, \"type\": \"parcoords\"}], \"pie\": [{\"automargin\": true, \"type\": \"pie\"}], \"scatter\": [{\"marker\": {\"colorbar\": {\"outlinewidth\": 0, \"ticks\": \"\"}}, \"type\": \"scatter\"}], \"scatter3d\": [{\"line\": {\"colorbar\": {\"outlinewidth\": 0, \"ticks\": \"\"}}, \"marker\": {\"colorbar\": {\"outlinewidth\": 0, \"ticks\": \"\"}}, \"type\": \"scatter3d\"}], \"scattercarpet\": [{\"marker\": {\"colorbar\": {\"outlinewidth\": 0, \"ticks\": \"\"}}, \"type\": \"scattercarpet\"}], \"scattergeo\": [{\"marker\": {\"colorbar\": {\"outlinewidth\": 0, \"ticks\": \"\"}}, \"type\": \"scattergeo\"}], \"scattergl\": [{\"marker\": {\"colorbar\": {\"outlinewidth\": 0, \"ticks\": \"\"}}, \"type\": \"scattergl\"}], \"scattermapbox\": [{\"marker\": {\"colorbar\": {\"outlinewidth\": 0, \"ticks\": \"\"}}, \"type\": \"scattermapbox\"}], \"scatterpolar\": [{\"marker\": {\"colorbar\": {\"outlinewidth\": 0, \"ticks\": \"\"}}, \"type\": \"scatterpolar\"}], \"scatterpolargl\": [{\"marker\": {\"colorbar\": {\"outlinewidth\": 0, \"ticks\": \"\"}}, \"type\": \"scatterpolargl\"}], \"scatterternary\": [{\"marker\": {\"colorbar\": {\"outlinewidth\": 0, \"ticks\": \"\"}}, \"type\": \"scatterternary\"}], \"surface\": [{\"colorbar\": {\"outlinewidth\": 0, \"ticks\": \"\"}, \"colorscale\": [[0.0, \"#0d0887\"], [0.1111111111111111, \"#46039f\"], [0.2222222222222222, \"#7201a8\"], [0.3333333333333333, \"#9c179e\"], [0.4444444444444444, \"#bd3786\"], [0.5555555555555556, \"#d8576b\"], [0.6666666666666666, \"#ed7953\"], [0.7777777777777778, \"#fb9f3a\"], [0.8888888888888888, \"#fdca26\"], [1.0, \"#f0f921\"]], \"type\": \"surface\"}], \"table\": [{\"cells\": {\"fill\": {\"color\": \"#EBF0F8\"}, \"line\": {\"color\": \"white\"}}, \"header\": {\"fill\": {\"color\": \"#C8D4E3\"}, \"line\": {\"color\": \"white\"}}, \"type\": \"table\"}]}, \"layout\": {\"annotationdefaults\": {\"arrowcolor\": \"#2a3f5f\", \"arrowhead\": 0, \"arrowwidth\": 1}, \"autotypenumbers\": \"strict\", \"coloraxis\": {\"colorbar\": {\"outlinewidth\": 0, \"ticks\": \"\"}}, \"colorscale\": {\"diverging\": [[0, \"#8e0152\"], [0.1, \"#c51b7d\"], [0.2, \"#de77ae\"], [0.3, \"#f1b6da\"], [0.4, \"#fde0ef\"], [0.5, \"#f7f7f7\"], [0.6, \"#e6f5d0\"], [0.7, \"#b8e186\"], [0.8, \"#7fbc41\"], [0.9, \"#4d9221\"], [1, \"#276419\"]], \"sequential\": [[0.0, \"#0d0887\"], [0.1111111111111111, \"#46039f\"], [0.2222222222222222, \"#7201a8\"], [0.3333333333333333, \"#9c179e\"], [0.4444444444444444, \"#bd3786\"], [0.5555555555555556, \"#d8576b\"], [0.6666666666666666, \"#ed7953\"], [0.7777777777777778, \"#fb9f3a\"], [0.8888888888888888, \"#fdca26\"], [1.0, \"#f0f921\"]], \"sequentialminus\": [[0.0, \"#0d0887\"], [0.1111111111111111, \"#46039f\"], [0.2222222222222222, \"#7201a8\"], [0.3333333333333333, \"#9c179e\"], [0.4444444444444444, \"#bd3786\"], [0.5555555555555556, \"#d8576b\"], [0.6666666666666666, \"#ed7953\"], [0.7777777777777778, \"#fb9f3a\"], [0.8888888888888888, \"#fdca26\"], [1.0, \"#f0f921\"]]}, \"colorway\": [\"#636efa\", \"#EF553B\", \"#00cc96\", \"#ab63fa\", \"#FFA15A\", \"#19d3f3\", \"#FF6692\", \"#B6E880\", \"#FF97FF\", \"#FECB52\"], \"font\": {\"color\": \"#2a3f5f\"}, \"geo\": {\"bgcolor\": \"white\", \"lakecolor\": \"white\", \"landcolor\": \"#E5ECF6\", \"showlakes\": true, \"showland\": true, \"subunitcolor\": \"white\"}, \"hoverlabel\": {\"align\": \"left\"}, \"hovermode\": \"closest\", \"mapbox\": {\"style\": \"light\"}, \"paper_bgcolor\": \"white\", \"plot_bgcolor\": \"#E5ECF6\", \"polar\": {\"angularaxis\": {\"gridcolor\": \"white\", \"linecolor\": \"white\", \"ticks\": \"\"}, \"bgcolor\": \"#E5ECF6\", \"radialaxis\": {\"gridcolor\": \"white\", \"linecolor\": \"white\", \"ticks\": \"\"}}, \"scene\": {\"xaxis\": {\"backgroundcolor\": \"#E5ECF6\", \"gridcolor\": \"white\", \"gridwidth\": 2, \"linecolor\": \"white\", \"showbackground\": true, \"ticks\": \"\", \"zerolinecolor\": \"white\"}, \"yaxis\": {\"backgroundcolor\": \"#E5ECF6\", \"gridcolor\": \"white\", \"gridwidth\": 2, \"linecolor\": \"white\", \"showbackground\": true, \"ticks\": \"\", \"zerolinecolor\": \"white\"}, \"zaxis\": {\"backgroundcolor\": \"#E5ECF6\", \"gridcolor\": \"white\", \"gridwidth\": 2, \"linecolor\": \"white\", \"showbackground\": true, \"ticks\": \"\", \"zerolinecolor\": \"white\"}}, \"shapedefaults\": {\"line\": {\"color\": \"#2a3f5f\"}}, \"ternary\": {\"aaxis\": {\"gridcolor\": \"white\", \"linecolor\": \"white\", \"ticks\": \"\"}, \"baxis\": {\"gridcolor\": \"white\", \"linecolor\": \"white\", \"ticks\": \"\"}, \"bgcolor\": \"#E5ECF6\", \"caxis\": {\"gridcolor\": \"white\", \"linecolor\": \"white\", \"ticks\": \"\"}}, \"title\": {\"x\": 0.05}, \"xaxis\": {\"automargin\": true, \"gridcolor\": \"white\", \"linecolor\": \"white\", \"ticks\": \"\", \"title\": {\"standoff\": 15}, \"zerolinecolor\": \"white\", \"zerolinewidth\": 2}, \"yaxis\": {\"automargin\": true, \"gridcolor\": \"white\", \"linecolor\": \"white\", \"ticks\": \"\", \"title\": {\"standoff\": 15}, \"zerolinecolor\": \"white\", \"zerolinewidth\": 2}}}, \"title\": {\"text\": \"Accuracies for Different Hyper-Parameters\", \"xanchor\": \"center\", \"yanchor\": \"top\"}, \"xaxis\": {\"anchor\": \"y\", \"domain\": [0.0, 1.0], \"title\": {\"text\": \"Parameters\"}}, \"yaxis\": {\"anchor\": \"x\", \"domain\": [0.0, 1.0], \"title\": {\"text\": \"Accuracy\"}}},                        {\"responsive\": true}                    ).then(function(){\n",
       "                            \n",
       "var gd = document.getElementById('e7eb5832-cb79-4899-afee-34520a4093ac');\n",
       "var x = new MutationObserver(function (mutations, observer) {{\n",
       "        var display = window.getComputedStyle(gd).display;\n",
       "        if (!display || display === 'none') {{\n",
       "            console.log([gd, 'removed!']);\n",
       "            Plotly.purge(gd);\n",
       "            observer.disconnect();\n",
       "        }}\n",
       "}});\n",
       "\n",
       "// Listen for the removal of the full notebook cells\n",
       "var notebookContainer = gd.closest('#notebook-container');\n",
       "if (notebookContainer) {{\n",
       "    x.observe(notebookContainer, {childList: true});\n",
       "}}\n",
       "\n",
       "// Listen for the clearing of the current output cell\n",
       "var outputEl = gd.closest('.output');\n",
       "if (outputEl) {{\n",
       "    x.observe(outputEl, {childList: true});\n",
       "}}\n",
       "\n",
       "                        })                };                });            </script>        </div>"
      ]
     },
     "metadata": {},
     "output_type": "display_data"
    }
   ],
   "source": [
    "plotdata_2 = pd.DataFrame()\n",
    "plotdata_2['Parameters'] = accuracies_2.keys()\n",
    "plotdata_2['Accuracy'] = accuracies_2.values()\n",
    "fig = px.line(plotdata_2, x=\"Parameters\", y=\"Accuracy\")\n",
    "fig.update_layout(title={'text': \"Accuracies for Different Hyper-Parameters\",\n",
    "                                                'xanchor': 'center',\n",
    "                                                'yanchor': 'top'})\n",
    "iplot(fig)"
   ]
  },
  {
   "cell_type": "code",
   "execution_count": 27,
   "id": "tracked-shower",
   "metadata": {},
   "outputs": [
    {
     "data": {
      "image/png": "[encoded data removed]",
      "text/plain": [
       "<Figure size 432x288 with 2 Axes>"
      ]
     },
     "metadata": {
      "needs_background": "light"
     },
     "output_type": "display_data"
    }
   ],
   "source": [
    "knn_model = KNeighborsClassifier(n_neighbors=135)\n",
    "knn_model.fit(X_train, y_train)\n",
    "y_pred = knn_model.predict(X_validation)\n",
    "plt.title(\"KNN Confusion Matrix for Validation Data\", fontdict={'fontsize':18})\n",
    "ax = sns.heatmap(confusion_matrix(y_validation, y_pred), annot=True, fmt=\"d\")"
   ]
  },
  {
   "cell_type": "code",
   "execution_count": 28,
   "id": "collected-hours",
   "metadata": {},
   "outputs": [
    {
     "data": {
      "text/plain": [
       "0.9636022514071294"
      ]
     },
     "execution_count": 28,
     "metadata": {},
     "output_type": "execute_result"
    }
   ],
   "source": [
    "knn_model.score(X_validation, y_validation)"
   ]
  },
  {
   "cell_type": "code",
   "execution_count": 29,
   "id": "charming-leonard",
   "metadata": {},
   "outputs": [
    {
     "data": {
      "image/png": "[encoded data removed]",
      "text/plain": [
       "<Figure size 432x288 with 2 Axes>"
      ]
     },
     "metadata": {
      "needs_background": "light"
     },
     "output_type": "display_data"
    }
   ],
   "source": [
    "knn_model2 = KNeighborsClassifier(n_neighbors=135)\n",
    "knn_model2.fit(X_train_copy, y_train_copy)\n",
    "y_pred_copy = knn_model2.predict(X_validation_copy)\n",
    "plt.title(\"KNN Confusion Matrix for Validation Data\", fontdict={'fontsize':18})\n",
    "ax = sns.heatmap(confusion_matrix(y_validation_copy, y_pred_copy), annot=True, fmt=\"d\")"
   ]
  },
  {
   "cell_type": "code",
   "execution_count": 30,
   "id": "alpine-prime",
   "metadata": {},
   "outputs": [
    {
     "data": {
      "text/plain": [
       "0.9782363977485928"
      ]
     },
     "execution_count": 30,
     "metadata": {},
     "output_type": "execute_result"
    }
   ],
   "source": [
    "knn_model2.score(X_validation_copy, y_validation_copy)"
   ]
  },
  {
   "cell_type": "code",
   "execution_count": 31,
   "id": "infectious-specialist",
   "metadata": {},
   "outputs": [
    {
     "name": "stdout",
     "output_type": "stream",
     "text": [
      "Accuracy for SVM on validation data: 97.82%\n"
     ]
    }
   ],
   "source": [
    "svm_model = SVC()\n",
    "svm_model.fit(X_train, y_train)\n",
    "print(\"Accuracy for SVM on validation data: {}%\".format(round((svm_model.score(X_validation, y_validation)*100),2)))"
   ]
  },
  {
   "cell_type": "code",
   "execution_count": 32,
   "id": "earned-realtor",
   "metadata": {},
   "outputs": [
    {
     "name": "stdout",
     "output_type": "stream",
     "text": [
      "Accuracy for SVM on validation data: 97.67%\n"
     ]
    }
   ],
   "source": [
    "svm_model2= SVC()\n",
    "svm_model2.fit(X_train_copy, y_train_copy)\n",
    "print(\"Accuracy for SVM on validation data: {}%\".format(round((svm_model2.score(X_validation_copy, y_validation_copy)*100),2)))"
   ]
  },
  {
   "cell_type": "markdown",
   "id": "silver-dream",
   "metadata": {},
   "source": [
    "### There's a first hint from the comparison of the scalers used that can be viewed in the SVC. In fact the results are pretty high and they tend to have a bigger score whit the _MaxAbsScaler_, but not for SVC. It could a signal of overfitting, especially because in the confusion matrix the false-positive are not balanced"
   ]
  },
  {
   "cell_type": "code",
   "execution_count": 33,
   "id": "prime-evans",
   "metadata": {},
   "outputs": [
    {
     "name": "stdout",
     "output_type": "stream",
     "text": [
      "Epoch 1/50\n",
      "  1/255 [..............................] - ETA: 0s - loss: 0.7047 - accuracy: 0.4375WARNING:tensorflow:Callbacks method `on_train_batch_begin` is slow compared to the batch time (batch time: 0.0000s vs `on_train_batch_begin` time: 0.0010s). Check your callbacks.\n",
      "255/255 [==============================] - 0s 2ms/step - loss: 0.3886 - accuracy: 0.9348 - val_loss: 0.1566 - val_accuracy: 0.9576\n",
      "Epoch 2/50\n",
      "255/255 [==============================] - 0s 947us/step - loss: 0.0993 - accuracy: 0.9735 - val_loss: 0.1029 - val_accuracy: 0.9614\n",
      "Epoch 3/50\n",
      "255/255 [==============================] - 0s 950us/step - loss: 0.0708 - accuracy: 0.9794 - val_loss: 0.0940 - val_accuracy: 0.9647\n",
      "Epoch 4/50\n",
      "255/255 [==============================] - 0s 960us/step - loss: 0.0627 - accuracy: 0.9832 - val_loss: 0.0915 - val_accuracy: 0.9719\n",
      "Epoch 5/50\n",
      "255/255 [==============================] - 0s 951us/step - loss: 0.0577 - accuracy: 0.9848 - val_loss: 0.0937 - val_accuracy: 0.9707\n",
      "Epoch 6/50\n",
      "255/255 [==============================] - 0s 935us/step - loss: 0.0550 - accuracy: 0.9848 - val_loss: 0.0954 - val_accuracy: 0.9677\n",
      "Epoch 7/50\n",
      "255/255 [==============================] - 0s 1ms/step - loss: 0.0525 - accuracy: 0.9850 - val_loss: 0.0839 - val_accuracy: 0.9741\n",
      "Epoch 8/50\n",
      "255/255 [==============================] - 0s 1ms/step - loss: 0.0513 - accuracy: 0.9850 - val_loss: 0.0835 - val_accuracy: 0.9767\n",
      "Epoch 9/50\n",
      "255/255 [==============================] - 0s 1ms/step - loss: 0.0501 - accuracy: 0.9855 - val_loss: 0.0840 - val_accuracy: 0.9752\n",
      "Epoch 10/50\n",
      "255/255 [==============================] - 0s 933us/step - loss: 0.0485 - accuracy: 0.9855 - val_loss: 0.0800 - val_accuracy: 0.9767\n",
      "Epoch 11/50\n",
      "255/255 [==============================] - 0s 934us/step - loss: 0.0483 - accuracy: 0.9861 - val_loss: 0.0801 - val_accuracy: 0.9767\n",
      "Epoch 12/50\n",
      "255/255 [==============================] - 0s 935us/step - loss: 0.0468 - accuracy: 0.9862 - val_loss: 0.0797 - val_accuracy: 0.9782\n",
      "Epoch 13/50\n",
      "255/255 [==============================] - 0s 952us/step - loss: 0.0460 - accuracy: 0.9866 - val_loss: 0.0791 - val_accuracy: 0.9767\n",
      "Epoch 14/50\n",
      "255/255 [==============================] - 0s 993us/step - loss: 0.0456 - accuracy: 0.9865 - val_loss: 0.0775 - val_accuracy: 0.9782\n",
      "Epoch 15/50\n",
      "255/255 [==============================] - 0s 966us/step - loss: 0.0452 - accuracy: 0.9867 - val_loss: 0.0782 - val_accuracy: 0.9782\n",
      "Epoch 16/50\n",
      "255/255 [==============================] - 0s 947us/step - loss: 0.0447 - accuracy: 0.9867 - val_loss: 0.0772 - val_accuracy: 0.9782\n",
      "Epoch 17/50\n",
      "255/255 [==============================] - 0s 965us/step - loss: 0.0444 - accuracy: 0.9869 - val_loss: 0.0768 - val_accuracy: 0.9782\n",
      "Epoch 18/50\n",
      "255/255 [==============================] - 0s 981us/step - loss: 0.0439 - accuracy: 0.9871 - val_loss: 0.0773 - val_accuracy: 0.9782\n",
      "Epoch 19/50\n",
      "255/255 [==============================] - 0s 1ms/step - loss: 0.0439 - accuracy: 0.9866 - val_loss: 0.0769 - val_accuracy: 0.9782\n",
      "Epoch 20/50\n",
      "255/255 [==============================] - 0s 1ms/step - loss: 0.0427 - accuracy: 0.9881 - val_loss: 0.0821 - val_accuracy: 0.9771\n",
      "Epoch 21/50\n",
      "255/255 [==============================] - 0s 959us/step - loss: 0.0431 - accuracy: 0.9869 - val_loss: 0.0790 - val_accuracy: 0.9786\n",
      "Epoch 22/50\n",
      "255/255 [==============================] - 0s 1ms/step - loss: 0.0428 - accuracy: 0.9877 - val_loss: 0.0867 - val_accuracy: 0.9741\n",
      "Epoch 23/50\n",
      "255/255 [==============================] - 0s 1ms/step - loss: 0.0423 - accuracy: 0.9871 - val_loss: 0.0781 - val_accuracy: 0.9786\n",
      "Epoch 24/50\n",
      "255/255 [==============================] - 0s 870us/step - loss: 0.0422 - accuracy: 0.9878 - val_loss: 0.0796 - val_accuracy: 0.9786\n",
      "Epoch 25/50\n",
      "255/255 [==============================] - 0s 1ms/step - loss: 0.0420 - accuracy: 0.9872 - val_loss: 0.0765 - val_accuracy: 0.9786\n",
      "Epoch 26/50\n",
      "255/255 [==============================] - 0s 1ms/step - loss: 0.0417 - accuracy: 0.9877 - val_loss: 0.0787 - val_accuracy: 0.9786\n",
      "Epoch 27/50\n",
      "255/255 [==============================] - 0s 1ms/step - loss: 0.0413 - accuracy: 0.9876 - val_loss: 0.0780 - val_accuracy: 0.9786\n",
      "Epoch 28/50\n",
      "255/255 [==============================] - 0s 986us/step - loss: 0.0411 - accuracy: 0.9876 - val_loss: 0.0787 - val_accuracy: 0.9782\n",
      "Epoch 29/50\n",
      "255/255 [==============================] - 0s 761us/step - loss: 0.0415 - accuracy: 0.9878 - val_loss: 0.0822 - val_accuracy: 0.9767\n",
      "Epoch 30/50\n",
      "255/255 [==============================] - 0s 1000us/step - loss: 0.0409 - accuracy: 0.9878 - val_loss: 0.0940 - val_accuracy: 0.9704\n",
      "Epoch 31/50\n",
      "255/255 [==============================] - 0s 1ms/step - loss: 0.0405 - accuracy: 0.9876 - val_loss: 0.0781 - val_accuracy: 0.9786\n",
      "Epoch 32/50\n",
      "255/255 [==============================] - 0s 1ms/step - loss: 0.0408 - accuracy: 0.9882 - val_loss: 0.0869 - val_accuracy: 0.9737\n",
      "Epoch 33/50\n",
      "255/255 [==============================] - 0s 1ms/step - loss: 0.0403 - accuracy: 0.9880 - val_loss: 0.0844 - val_accuracy: 0.9737\n",
      "Epoch 34/50\n",
      "255/255 [==============================] - 0s 980us/step - loss: 0.0399 - accuracy: 0.9874 - val_loss: 0.0971 - val_accuracy: 0.9704\n",
      "Epoch 35/50\n",
      "255/255 [==============================] - 0s 1ms/step - loss: 0.0397 - accuracy: 0.9877 - val_loss: 0.0846 - val_accuracy: 0.9737\n",
      "Epoch 36/50\n",
      "255/255 [==============================] - 0s 966us/step - loss: 0.0394 - accuracy: 0.9876 - val_loss: 0.0795 - val_accuracy: 0.9782\n",
      "Epoch 37/50\n",
      "255/255 [==============================] - 0s 997us/step - loss: 0.0395 - accuracy: 0.9878 - val_loss: 0.0934 - val_accuracy: 0.9704\n",
      "Epoch 38/50\n",
      "255/255 [==============================] - 0s 1ms/step - loss: 0.0389 - accuracy: 0.9876 - val_loss: 0.0825 - val_accuracy: 0.9749\n",
      "Epoch 39/50\n",
      "255/255 [==============================] - 0s 1ms/step - loss: 0.0384 - accuracy: 0.9877 - val_loss: 0.1031 - val_accuracy: 0.9704\n",
      "Epoch 40/50\n",
      "255/255 [==============================] - 0s 936us/step - loss: 0.0385 - accuracy: 0.9874 - val_loss: 0.0784 - val_accuracy: 0.9786\n",
      "Epoch 41/50\n",
      "255/255 [==============================] - 0s 1ms/step - loss: 0.0387 - accuracy: 0.9874 - val_loss: 0.0941 - val_accuracy: 0.9704\n",
      "Epoch 42/50\n",
      "255/255 [==============================] - 0s 1ms/step - loss: 0.0377 - accuracy: 0.9876 - val_loss: 0.0926 - val_accuracy: 0.9704\n",
      "Epoch 43/50\n",
      "255/255 [==============================] - 0s 1ms/step - loss: 0.0378 - accuracy: 0.9876 - val_loss: 0.0869 - val_accuracy: 0.9722\n",
      "Epoch 44/50\n",
      "255/255 [==============================] - 0s 956us/step - loss: 0.0374 - accuracy: 0.9876 - val_loss: 0.0897 - val_accuracy: 0.9711\n",
      "Epoch 45/50\n",
      "255/255 [==============================] - 0s 1ms/step - loss: 0.0370 - accuracy: 0.9877 - val_loss: 0.0811 - val_accuracy: 0.9767\n",
      "Epoch 46/50\n",
      "255/255 [==============================] - 0s 955us/step - loss: 0.0375 - accuracy: 0.9876 - val_loss: 0.0964 - val_accuracy: 0.9704\n",
      "Epoch 47/50\n",
      "255/255 [==============================] - 0s 1ms/step - loss: 0.0365 - accuracy: 0.9876 - val_loss: 0.0805 - val_accuracy: 0.9779\n",
      "Epoch 48/50\n",
      "255/255 [==============================] - 0s 1ms/step - loss: 0.0366 - accuracy: 0.9877 - val_loss: 0.0839 - val_accuracy: 0.9734\n",
      "Epoch 49/50\n",
      "255/255 [==============================] - 0s 868us/step - loss: 0.0369 - accuracy: 0.9876 - val_loss: 0.0867 - val_accuracy: 0.9722\n",
      "Epoch 50/50\n",
      "255/255 [==============================] - 0s 946us/step - loss: 0.0362 - accuracy: 0.9874 - val_loss: 0.0855 - val_accuracy: 0.9730\n"
     ]
    }
   ],
   "source": [
    "# NN without regularization\n",
    "model1 = Sequential()\n",
    "model1.add(Dense(32, activation='relu', input_dim=6))\n",
    "model1.add(Dense(16, activation='relu'))\n",
    "model1.add(Dense(1, activation='sigmoid'))\n",
    "model1.compile(optimizer='rmsprop',\n",
    "              loss='binary_crossentropy',\n",
    "              metrics=['accuracy'])\n",
    "history1 = model1.fit(X_train, y_train, epochs=50, batch_size=32, validation_data=(X_validation, y_validation))"
   ]
  },
  {
   "cell_type": "code",
   "execution_count": 34,
   "id": "organic-plant",
   "metadata": {},
   "outputs": [
    {
     "name": "stdout",
     "output_type": "stream",
     "text": [
      "Epoch 1/50\n",
      "255/255 [==============================] - 0s 1ms/step - loss: 0.3530 - accuracy: 0.8654 - val_loss: 0.1671 - val_accuracy: 0.9437\n",
      "Epoch 2/50\n",
      "255/255 [==============================] - 0s 1ms/step - loss: 0.1118 - accuracy: 0.9670 - val_loss: 0.1030 - val_accuracy: 0.9614\n",
      "Epoch 3/50\n",
      "255/255 [==============================] - 0s 1ms/step - loss: 0.0776 - accuracy: 0.9763 - val_loss: 0.0939 - val_accuracy: 0.9674\n",
      "Epoch 4/50\n",
      "255/255 [==============================] - 0s 979us/step - loss: 0.0665 - accuracy: 0.9808 - val_loss: 0.0905 - val_accuracy: 0.9651\n",
      "Epoch 5/50\n",
      "255/255 [==============================] - 0s 1ms/step - loss: 0.0610 - accuracy: 0.9823 - val_loss: 0.0820 - val_accuracy: 0.9734\n",
      "Epoch 6/50\n",
      "255/255 [==============================] - 0s 1ms/step - loss: 0.0560 - accuracy: 0.9846 - val_loss: 0.0823 - val_accuracy: 0.9760\n",
      "Epoch 7/50\n",
      "255/255 [==============================] - 0s 1ms/step - loss: 0.0519 - accuracy: 0.9858 - val_loss: 0.0819 - val_accuracy: 0.9775\n",
      "Epoch 8/50\n",
      "255/255 [==============================] - 0s 998us/step - loss: 0.0502 - accuracy: 0.9869 - val_loss: 0.0784 - val_accuracy: 0.9779\n",
      "Epoch 9/50\n",
      "255/255 [==============================] - 0s 905us/step - loss: 0.0483 - accuracy: 0.9875 - val_loss: 0.0773 - val_accuracy: 0.9775\n",
      "Epoch 10/50\n",
      "255/255 [==============================] - 0s 984us/step - loss: 0.0476 - accuracy: 0.9870 - val_loss: 0.0777 - val_accuracy: 0.9782\n",
      "Epoch 11/50\n",
      "255/255 [==============================] - 0s 1ms/step - loss: 0.0468 - accuracy: 0.9878 - val_loss: 0.0763 - val_accuracy: 0.9782\n",
      "Epoch 12/50\n",
      "255/255 [==============================] - 0s 1ms/step - loss: 0.0454 - accuracy: 0.9878 - val_loss: 0.0765 - val_accuracy: 0.9782\n",
      "Epoch 13/50\n",
      "255/255 [==============================] - 0s 1ms/step - loss: 0.0470 - accuracy: 0.9872 - val_loss: 0.0763 - val_accuracy: 0.9782\n",
      "Epoch 14/50\n",
      "255/255 [==============================] - 0s 1ms/step - loss: 0.0461 - accuracy: 0.9877 - val_loss: 0.0765 - val_accuracy: 0.9782\n",
      "Epoch 15/50\n",
      "255/255 [==============================] - 0s 1ms/step - loss: 0.0453 - accuracy: 0.9882 - val_loss: 0.0765 - val_accuracy: 0.9782\n",
      "Epoch 16/50\n",
      "255/255 [==============================] - 0s 1ms/step - loss: 0.0458 - accuracy: 0.9881 - val_loss: 0.0759 - val_accuracy: 0.9786\n",
      "Epoch 17/50\n",
      "255/255 [==============================] - 0s 1ms/step - loss: 0.0455 - accuracy: 0.9880 - val_loss: 0.0765 - val_accuracy: 0.9786\n",
      "Epoch 18/50\n",
      "255/255 [==============================] - 0s 997us/step - loss: 0.0445 - accuracy: 0.9878 - val_loss: 0.0763 - val_accuracy: 0.9786\n",
      "Epoch 19/50\n",
      "255/255 [==============================] - 0s 956us/step - loss: 0.0442 - accuracy: 0.9883 - val_loss: 0.0767 - val_accuracy: 0.9786\n",
      "Epoch 20/50\n",
      "255/255 [==============================] - 0s 1ms/step - loss: 0.0450 - accuracy: 0.9880 - val_loss: 0.0769 - val_accuracy: 0.9786\n",
      "Epoch 21/50\n",
      "255/255 [==============================] - 0s 1ms/step - loss: 0.0433 - accuracy: 0.9881 - val_loss: 0.0768 - val_accuracy: 0.9786\n",
      "Epoch 22/50\n",
      "255/255 [==============================] - 0s 1ms/step - loss: 0.0430 - accuracy: 0.9877 - val_loss: 0.0778 - val_accuracy: 0.9786\n",
      "Epoch 23/50\n",
      "255/255 [==============================] - 0s 1ms/step - loss: 0.0431 - accuracy: 0.9880 - val_loss: 0.0791 - val_accuracy: 0.9786\n",
      "Epoch 24/50\n",
      "255/255 [==============================] - 0s 1ms/step - loss: 0.0427 - accuracy: 0.9881 - val_loss: 0.0790 - val_accuracy: 0.9786\n",
      "Epoch 25/50\n",
      "255/255 [==============================] - 0s 1ms/step - loss: 0.0430 - accuracy: 0.9880 - val_loss: 0.0784 - val_accuracy: 0.9786\n",
      "Epoch 26/50\n",
      "255/255 [==============================] - 0s 1ms/step - loss: 0.0429 - accuracy: 0.9883 - val_loss: 0.0784 - val_accuracy: 0.9786\n",
      "Epoch 27/50\n",
      "255/255 [==============================] - 0s 1ms/step - loss: 0.0402 - accuracy: 0.9885 - val_loss: 0.0786 - val_accuracy: 0.9786\n",
      "Epoch 28/50\n",
      "255/255 [==============================] - 0s 1ms/step - loss: 0.0416 - accuracy: 0.9880 - val_loss: 0.0795 - val_accuracy: 0.9786\n",
      "Epoch 29/50\n",
      "255/255 [==============================] - 0s 1ms/step - loss: 0.0421 - accuracy: 0.9881 - val_loss: 0.0807 - val_accuracy: 0.9786\n",
      "Epoch 30/50\n",
      "255/255 [==============================] - 0s 1ms/step - loss: 0.0418 - accuracy: 0.9881 - val_loss: 0.0790 - val_accuracy: 0.9786\n",
      "Epoch 31/50\n",
      "255/255 [==============================] - 0s 1ms/step - loss: 0.0398 - accuracy: 0.9883 - val_loss: 0.0807 - val_accuracy: 0.9786\n",
      "Epoch 32/50\n",
      "255/255 [==============================] - 0s 1ms/step - loss: 0.0403 - accuracy: 0.9885 - val_loss: 0.0805 - val_accuracy: 0.9786\n",
      "Epoch 33/50\n",
      "255/255 [==============================] - 0s 1ms/step - loss: 0.0389 - accuracy: 0.9883 - val_loss: 0.0813 - val_accuracy: 0.9786\n",
      "Epoch 34/50\n",
      "255/255 [==============================] - 0s 1000us/step - loss: 0.0396 - accuracy: 0.9880 - val_loss: 0.0844 - val_accuracy: 0.9786\n",
      "Epoch 35/50\n",
      "255/255 [==============================] - 0s 1ms/step - loss: 0.0392 - accuracy: 0.9878 - val_loss: 0.0857 - val_accuracy: 0.9786\n",
      "Epoch 36/50\n",
      "255/255 [==============================] - 0s 1ms/step - loss: 0.0395 - accuracy: 0.9881 - val_loss: 0.0875 - val_accuracy: 0.9786\n",
      "Epoch 37/50\n",
      "255/255 [==============================] - 0s 1ms/step - loss: 0.0381 - accuracy: 0.9885 - val_loss: 0.0843 - val_accuracy: 0.9786\n",
      "Epoch 38/50\n",
      "255/255 [==============================] - 0s 1ms/step - loss: 0.0376 - accuracy: 0.9881 - val_loss: 0.0840 - val_accuracy: 0.9786\n",
      "Epoch 39/50\n",
      "255/255 [==============================] - 0s 1ms/step - loss: 0.0379 - accuracy: 0.9881 - val_loss: 0.0882 - val_accuracy: 0.9786\n",
      "Epoch 40/50\n",
      "255/255 [==============================] - 0s 1ms/step - loss: 0.0379 - accuracy: 0.9876 - val_loss: 0.0941 - val_accuracy: 0.9786\n",
      "Epoch 41/50\n",
      "255/255 [==============================] - 0s 1ms/step - loss: 0.0378 - accuracy: 0.9878 - val_loss: 0.0910 - val_accuracy: 0.9786\n",
      "Epoch 42/50\n",
      "255/255 [==============================] - 0s 996us/step - loss: 0.0363 - accuracy: 0.9883 - val_loss: 0.0900 - val_accuracy: 0.9786\n",
      "Epoch 43/50\n",
      "255/255 [==============================] - 0s 1ms/step - loss: 0.0368 - accuracy: 0.9881 - val_loss: 0.0922 - val_accuracy: 0.9786\n",
      "Epoch 44/50\n",
      "255/255 [==============================] - 0s 1ms/step - loss: 0.0366 - accuracy: 0.9881 - val_loss: 0.0912 - val_accuracy: 0.9786\n",
      "Epoch 45/50\n",
      "255/255 [==============================] - 0s 1ms/step - loss: 0.0373 - accuracy: 0.9880 - val_loss: 0.0986 - val_accuracy: 0.9786\n",
      "Epoch 46/50\n",
      "255/255 [==============================] - 0s 1ms/step - loss: 0.0347 - accuracy: 0.9880 - val_loss: 0.0996 - val_accuracy: 0.9786\n",
      "Epoch 47/50\n",
      "255/255 [==============================] - ETA: 0s - loss: 0.0319 - accuracy: 0.98 - 0s 1ms/step - loss: 0.0356 - accuracy: 0.9882 - val_loss: 0.1011 - val_accuracy: 0.9786\n",
      "Epoch 48/50\n",
      "255/255 [==============================] - 0s 1ms/step - loss: 0.0343 - accuracy: 0.9882 - val_loss: 0.0994 - val_accuracy: 0.9786\n",
      "Epoch 49/50\n",
      "255/255 [==============================] - 0s 1ms/step - loss: 0.0343 - accuracy: 0.9885 - val_loss: 0.0925 - val_accuracy: 0.9786\n",
      "Epoch 50/50\n",
      "255/255 [==============================] - 0s 1ms/step - loss: 0.0344 - accuracy: 0.9877 - val_loss: 0.1009 - val_accuracy: 0.9786\n"
     ]
    }
   ],
   "source": [
    "# NN with 0.2 dropout ratio before the hidden layer.\n",
    "model2 = Sequential()\n",
    "model2.add(Dense(32, activation='relu', input_dim=6))\n",
    "model2.add(Dropout(0.2))\n",
    "model2.add(Dense(16, activation='relu'))\n",
    "model2.add(Dense(1, activation='sigmoid'))\n",
    "model2.compile(optimizer='rmsprop',\n",
    "              loss='binary_crossentropy',\n",
    "              metrics=['accuracy'])\n",
    "history2 = model2.fit(X_train, y_train, epochs=50, batch_size=32, validation_data=(X_validation, y_validation))"
   ]
  },
  {
   "cell_type": "code",
   "execution_count": 35,
   "id": "conscious-effect",
   "metadata": {},
   "outputs": [
    {
     "name": "stdout",
     "output_type": "stream",
     "text": [
      "Epoch 1/50\n",
      "255/255 [==============================] - 0s 1ms/step - loss: 1.1718 - accuracy: 0.7845 - val_loss: 0.6915 - val_accuracy: 0.6469\n",
      "Epoch 2/50\n",
      "255/255 [==============================] - 0s 1ms/step - loss: 0.4464 - accuracy: 0.8987 - val_loss: 0.3734 - val_accuracy: 0.9238\n",
      "Epoch 3/50\n",
      "255/255 [==============================] - 0s 1ms/step - loss: 0.3202 - accuracy: 0.9542 - val_loss: 0.3178 - val_accuracy: 0.9193\n",
      "Epoch 4/50\n",
      "255/255 [==============================] - 0s 1ms/step - loss: 0.2765 - accuracy: 0.9614 - val_loss: 0.2771 - val_accuracy: 0.9385\n",
      "Epoch 5/50\n",
      "255/255 [==============================] - 0s 1ms/step - loss: 0.2508 - accuracy: 0.9670 - val_loss: 0.2628 - val_accuracy: 0.9370\n",
      "Epoch 6/50\n",
      "255/255 [==============================] - 0s 1ms/step - loss: 0.2300 - accuracy: 0.9714 - val_loss: 0.2409 - val_accuracy: 0.9441\n",
      "Epoch 7/50\n",
      "255/255 [==============================] - 0s 1ms/step - loss: 0.2119 - accuracy: 0.9736 - val_loss: 0.2169 - val_accuracy: 0.9625\n",
      "Epoch 8/50\n",
      "255/255 [==============================] - 0s 1ms/step - loss: 0.1959 - accuracy: 0.9757 - val_loss: 0.2073 - val_accuracy: 0.9591\n",
      "Epoch 9/50\n",
      "255/255 [==============================] - 0s 1ms/step - loss: 0.1871 - accuracy: 0.9792 - val_loss: 0.2025 - val_accuracy: 0.9636\n",
      "Epoch 10/50\n",
      "255/255 [==============================] - 0s 1ms/step - loss: 0.1815 - accuracy: 0.9824 - val_loss: 0.1990 - val_accuracy: 0.9685\n",
      "Epoch 11/50\n",
      "255/255 [==============================] - 0s 1ms/step - loss: 0.1767 - accuracy: 0.9823 - val_loss: 0.1919 - val_accuracy: 0.9726\n",
      "Epoch 12/50\n",
      "255/255 [==============================] - 0s 1ms/step - loss: 0.1726 - accuracy: 0.9834 - val_loss: 0.1974 - val_accuracy: 0.9640\n",
      "Epoch 13/50\n",
      "255/255 [==============================] - 0s 1ms/step - loss: 0.1693 - accuracy: 0.9849 - val_loss: 0.1852 - val_accuracy: 0.9752\n",
      "Epoch 14/50\n",
      "255/255 [==============================] - 0s 1ms/step - loss: 0.1661 - accuracy: 0.9853 - val_loss: 0.1885 - val_accuracy: 0.9711\n",
      "Epoch 15/50\n",
      "255/255 [==============================] - 0s 1ms/step - loss: 0.1633 - accuracy: 0.9843 - val_loss: 0.1791 - val_accuracy: 0.9760\n",
      "Epoch 16/50\n",
      "255/255 [==============================] - 0s 1ms/step - loss: 0.1605 - accuracy: 0.9860 - val_loss: 0.1769 - val_accuracy: 0.9752\n",
      "Epoch 17/50\n",
      "255/255 [==============================] - 0s 1ms/step - loss: 0.1579 - accuracy: 0.9858 - val_loss: 0.1744 - val_accuracy: 0.9749\n",
      "Epoch 18/50\n",
      "255/255 [==============================] - 0s 930us/step - loss: 0.1558 - accuracy: 0.9856 - val_loss: 0.1726 - val_accuracy: 0.9764\n",
      "Epoch 19/50\n",
      "255/255 [==============================] - 0s 945us/step - loss: 0.1536 - accuracy: 0.9861 - val_loss: 0.1722 - val_accuracy: 0.9767\n",
      "Epoch 20/50\n",
      "255/255 [==============================] - 0s 1ms/step - loss: 0.1517 - accuracy: 0.9858 - val_loss: 0.1706 - val_accuracy: 0.9767\n",
      "Epoch 21/50\n",
      "255/255 [==============================] - 0s 946us/step - loss: 0.1496 - accuracy: 0.9860 - val_loss: 0.1663 - val_accuracy: 0.9764\n",
      "Epoch 22/50\n",
      "255/255 [==============================] - 0s 942us/step - loss: 0.1478 - accuracy: 0.9862 - val_loss: 0.1662 - val_accuracy: 0.9767\n",
      "Epoch 23/50\n",
      "255/255 [==============================] - 0s 965us/step - loss: 0.1460 - accuracy: 0.9860 - val_loss: 0.1650 - val_accuracy: 0.9767\n",
      "Epoch 24/50\n",
      "255/255 [==============================] - 0s 951us/step - loss: 0.1443 - accuracy: 0.9870 - val_loss: 0.1617 - val_accuracy: 0.9767\n",
      "Epoch 25/50\n",
      "255/255 [==============================] - 0s 963us/step - loss: 0.1426 - accuracy: 0.9866 - val_loss: 0.1596 - val_accuracy: 0.9767\n",
      "Epoch 26/50\n",
      "255/255 [==============================] - 0s 1ms/step - loss: 0.1409 - accuracy: 0.9870 - val_loss: 0.1597 - val_accuracy: 0.9767\n",
      "Epoch 27/50\n",
      "255/255 [==============================] - 0s 1ms/step - loss: 0.1393 - accuracy: 0.9874 - val_loss: 0.1565 - val_accuracy: 0.9775\n",
      "Epoch 28/50\n",
      "255/255 [==============================] - 0s 1ms/step - loss: 0.1377 - accuracy: 0.9875 - val_loss: 0.1556 - val_accuracy: 0.9767\n",
      "Epoch 29/50\n",
      "255/255 [==============================] - 0s 1ms/step - loss: 0.1361 - accuracy: 0.9875 - val_loss: 0.1551 - val_accuracy: 0.9767\n",
      "Epoch 30/50\n",
      "255/255 [==============================] - 0s 1ms/step - loss: 0.1344 - accuracy: 0.9874 - val_loss: 0.1521 - val_accuracy: 0.9782\n",
      "Epoch 31/50\n",
      "255/255 [==============================] - 0s 1ms/step - loss: 0.1329 - accuracy: 0.9875 - val_loss: 0.1516 - val_accuracy: 0.9782\n",
      "Epoch 32/50\n",
      "255/255 [==============================] - 0s 937us/step - loss: 0.1314 - accuracy: 0.9875 - val_loss: 0.1506 - val_accuracy: 0.9782\n",
      "Epoch 33/50\n",
      "255/255 [==============================] - 0s 1ms/step - loss: 0.1299 - accuracy: 0.9875 - val_loss: 0.1491 - val_accuracy: 0.9782\n",
      "Epoch 34/50\n",
      "255/255 [==============================] - 0s 985us/step - loss: 0.1280 - accuracy: 0.9877 - val_loss: 0.1469 - val_accuracy: 0.9782\n",
      "Epoch 35/50\n",
      "255/255 [==============================] - 0s 1ms/step - loss: 0.1264 - accuracy: 0.9875 - val_loss: 0.1454 - val_accuracy: 0.9782\n",
      "Epoch 36/50\n",
      "255/255 [==============================] - 0s 1ms/step - loss: 0.1247 - accuracy: 0.9877 - val_loss: 0.1451 - val_accuracy: 0.9782\n",
      "Epoch 37/50\n",
      "255/255 [==============================] - 0s 1ms/step - loss: 0.1231 - accuracy: 0.9875 - val_loss: 0.1417 - val_accuracy: 0.9782\n",
      "Epoch 38/50\n",
      "255/255 [==============================] - 0s 1ms/step - loss: 0.1215 - accuracy: 0.9876 - val_loss: 0.1403 - val_accuracy: 0.9782\n",
      "Epoch 39/50\n",
      "255/255 [==============================] - 0s 1ms/step - loss: 0.1199 - accuracy: 0.9875 - val_loss: 0.1396 - val_accuracy: 0.9782\n",
      "Epoch 40/50\n",
      "255/255 [==============================] - 0s 1ms/step - loss: 0.1181 - accuracy: 0.9877 - val_loss: 0.1372 - val_accuracy: 0.9782\n",
      "Epoch 41/50\n",
      "255/255 [==============================] - 0s 1ms/step - loss: 0.1161 - accuracy: 0.9875 - val_loss: 0.1341 - val_accuracy: 0.9782\n",
      "Epoch 42/50\n",
      "255/255 [==============================] - 0s 1ms/step - loss: 0.1139 - accuracy: 0.9876 - val_loss: 0.1339 - val_accuracy: 0.9782\n",
      "Epoch 43/50\n",
      "255/255 [==============================] - 0s 959us/step - loss: 0.1108 - accuracy: 0.9876 - val_loss: 0.1285 - val_accuracy: 0.9782\n",
      "Epoch 44/50\n",
      "255/255 [==============================] - 0s 956us/step - loss: 0.1076 - accuracy: 0.9876 - val_loss: 0.1265 - val_accuracy: 0.9782\n",
      "Epoch 45/50\n",
      "255/255 [==============================] - 0s 994us/step - loss: 0.1045 - accuracy: 0.9876 - val_loss: 0.1242 - val_accuracy: 0.9782\n",
      "Epoch 46/50\n",
      "255/255 [==============================] - 0s 957us/step - loss: 0.1031 - accuracy: 0.9877 - val_loss: 0.1235 - val_accuracy: 0.9782\n",
      "Epoch 47/50\n",
      "255/255 [==============================] - 0s 1ms/step - loss: 0.1024 - accuracy: 0.9877 - val_loss: 0.1221 - val_accuracy: 0.9782\n",
      "Epoch 48/50\n",
      "255/255 [==============================] - 0s 1ms/step - loss: 0.1016 - accuracy: 0.9877 - val_loss: 0.1218 - val_accuracy: 0.9782\n",
      "Epoch 49/50\n",
      "255/255 [==============================] - 0s 1ms/step - loss: 0.1015 - accuracy: 0.9881 - val_loss: 0.1219 - val_accuracy: 0.9782\n",
      "Epoch 50/50\n",
      "255/255 [==============================] - 0s 1ms/step - loss: 0.1010 - accuracy: 0.9882 - val_loss: 0.1224 - val_accuracy: 0.9782\n"
     ]
    }
   ],
   "source": [
    "# NN with L1(Lasso) regularization\n",
    "model3 = Sequential()\n",
    "model3.add(Dense(32, activation='relu', input_dim=6, kernel_regularizer=l1(l=0.01)))\n",
    "model3.add(Dense(16, activation='relu', kernel_regularizer=l1(l=0.01)))\n",
    "model3.add(Dense(1, activation='sigmoid'))\n",
    "model3.compile(optimizer='rmsprop',\n",
    "              loss='binary_crossentropy',\n",
    "              metrics=['accuracy'])\n",
    "history3 = model3.fit(X_train, y_train, epochs=50, batch_size=32, validation_data=(X_validation, y_validation))"
   ]
  },
  {
   "cell_type": "markdown",
   "id": "growing-aluminum",
   "metadata": {},
   "source": [
    "### Comparison between ML and DL"
   ]
  },
  {
   "cell_type": "code",
   "execution_count": 47,
   "id": "neither-ballet",
   "metadata": {},
   "outputs": [
    {
     "name": "stdout",
     "output_type": "stream",
     "text": [
      "Accuracy for SVM on test data: 98.38%\n",
      "\n",
      "Accuracy for SVM2 on test data: 97.97%\n",
      "\n",
      "\n",
      "\n",
      "305/305 [==============================] - 0s 581us/step - loss: 0.1349 - accuracy: 0.9475\n",
      "Accuracy for Neural Network model on test data: 94.75%\n",
      "305/305 [==============================] - 0s 581us/step - loss: 0.1230 - accuracy: 0.9759\n",
      "Accuracy for Neural Network model on test data: 97.59%\n",
      "305/305 [==============================] - 0s 640us/step - loss: 0.0961 - accuracy: 0.9918\n",
      "Accuracy for Neural Network model on test data: 99.18%\n"
     ]
    }
   ],
   "source": [
    "print(\"Accuracy for SVM on test data: {}%\\n\".format(round((svm_model.score(X_test, y_test)*100),2)))\n",
    "print(\"Accuracy for SVM2 on test data: {}%\\n\".format(round((svm_model2.score(X_test_copy, y_test_copy)*100),2)))\n",
    "print()\n",
    "print()\n",
    "print(\"Accuracy for Neural Network model on test data: {}%\".format(round((model1.evaluate(X_test, y_test)[1]*100),2)))\n",
    "print(\"Accuracy for Neural Network model on test data: {}%\".format(round((model2.evaluate(X_test, y_test)[1]*100),2)))\n",
    "print(\"Accuracy for Neural Network model on test data: {}%\".format(round((model3.evaluate(X_test, y_test)[1]*100),2)))"
   ]
  },
  {
   "cell_type": "code",
   "execution_count": 43,
   "id": "incorrect-philippines",
   "metadata": {},
   "outputs": [
    {
     "data": {
      "image/png": "[encoded data removed]",
      "text/plain": [
       "<Figure size 432x288 with 2 Axes>"
      ]
     },
     "metadata": {
      "needs_background": "light"
     },
     "output_type": "display_data"
    }
   ],
   "source": [
    "y_pred = svm_model.predict(X_test)\n",
    "plt.title(\"SVM Confusion Matrix for Test Data\", fontdict={'fontsize':18})\n",
    "ax = sns.heatmap(confusion_matrix(y_test, y_pred), annot=True, fmt=\"d\")"
   ]
  },
  {
   "cell_type": "code",
   "execution_count": 42,
   "id": "nervous-labor",
   "metadata": {},
   "outputs": [
    {
     "data": {
      "image/png": "[encoded data removed]",
      "text/plain": [
       "<Figure size 432x288 with 2 Axes>"
      ]
     },
     "metadata": {
      "needs_background": "light"
     },
     "output_type": "display_data"
    }
   ],
   "source": [
    "y_pred_copy = svm_model2.predict(X_test_copy)\n",
    "plt.title(\"SVM Confusion Matrix for Test Data\", fontdict={'fontsize':18})\n",
    "ax = sns.heatmap(confusion_matrix(y_test_copy, y_pred_copy), annot=True, fmt=\"d\")"
   ]
  },
  {
   "cell_type": "code",
   "execution_count": 44,
   "id": "extended-organizer",
   "metadata": {},
   "outputs": [
    {
     "data": {
      "image/png": "[encoded data removed]",
      "text/plain": [
       "<Figure size 432x288 with 2 Axes>"
      ]
     },
     "metadata": {
      "needs_background": "light"
     },
     "output_type": "display_data"
    }
   ],
   "source": [
    "y_pred = model1.predict(X_test)\n",
    "threshold = 0.6\n",
    "y_pred = [1 if i >= threshold else 0 for i in y_pred]\n",
    "plt.title(\"Neural Network Confusion Matrix for Test Data\", fontdict={'fontsize':18})\n",
    "ax = sns.heatmap(confusion_matrix(y_test, y_pred), annot=True, fmt=\"d\")"
   ]
  },
  {
   "cell_type": "code",
   "execution_count": 45,
   "id": "activated-foundation",
   "metadata": {},
   "outputs": [
    {
     "data": {
      "image/png": "[encoded data removed]",
      "text/plain": [
       "<Figure size 432x288 with 2 Axes>"
      ]
     },
     "metadata": {
      "needs_background": "light"
     },
     "output_type": "display_data"
    }
   ],
   "source": [
    "y_pred = model2.predict(X_test)\n",
    "threshold = 0.6\n",
    "y_pred = [1 if i >= threshold else 0 for i in y_pred]\n",
    "plt.title(\"Neural Network Confusion Matrix for Test Data\", fontdict={'fontsize':18})\n",
    "ax = sns.heatmap(confusion_matrix(y_test, y_pred), annot=True, fmt=\"d\")"
   ]
  },
  {
   "cell_type": "code",
   "execution_count": 48,
   "id": "intense-galaxy",
   "metadata": {},
   "outputs": [
    {
     "data": {
      "image/png": "[encoded data removed]",
      "text/plain": [
       "<Figure size 432x288 with 2 Axes>"
      ]
     },
     "metadata": {
      "needs_background": "light"
     },
     "output_type": "display_data"
    }
   ],
   "source": [
    "y_pred = model3.predict(X_test)\n",
    "threshold = 0.6\n",
    "y_pred = [1 if i >= threshold else 0 for i in y_pred]\n",
    "plt.title(\"Neural Network Confusion Matrix for Test Data\", fontdict={'fontsize':18})\n",
    "ax = sns.heatmap(confusion_matrix(y_test, y_pred), annot=True, fmt=\"d\")"
   ]
  },
  {
   "cell_type": "markdown",
   "id": "hearing-emerald",
   "metadata": {},
   "source": [
    "6. Conclusion\n",
    "Both of the models did great job when predicting occupancy. Our accuracy is nearly 98%. So what do you think, which method (ML or DL) is suitable for this dataset and problem?\n",
    "\n",
    "Before answer that, look at the confusion matrix which are created when evaluating models with the test data. SVM model looks like biased toward occupied class. But we don't have that problem with neural network. So we can say that, we could use neural network for more stable and accurate results without significant errors."
   ]
  },
  {
   "cell_type": "markdown",
   "id": "optimum-peninsula",
   "metadata": {},
   "source": [
    "### Try to take a look at the whole data in order to see if with a larger sample there'd possible to find other relationships between the _features_ and the _classification_"
   ]
  },
  {
   "cell_type": "code",
   "execution_count": 49,
   "id": "aware-broadway",
   "metadata": {},
   "outputs": [
    {
     "data": {
      "text/plain": [
       "20560"
      ]
     },
     "execution_count": 49,
     "metadata": {},
     "output_type": "execute_result"
    }
   ],
   "source": [
    "data_all = pd.concat([datatest, datatest2, datatraining])\n",
    "len(data_all)"
   ]
  },
  {
   "cell_type": "code",
   "execution_count": 51,
   "id": "objective-casting",
   "metadata": {},
   "outputs": [
    {
     "data": {
      "text/plain": [
       "Text(0.5, 1.0, 'Density plots for occupancy during the whole dataset')"
      ]
     },
     "execution_count": 51,
     "metadata": {},
     "output_type": "execute_result"
    },
    {
     "data": {
      "image/png": "[encoded data removed]",
      "text/plain": [
       "<Figure size 1440x432 with 1 Axes>"
      ]
     },
     "metadata": {
      "needs_background": "light"
     },
     "output_type": "display_data"
    }
   ],
   "source": [
    "days_1_all = [] #creating two different lists in order to see how the values are distributed between them\n",
    "days_0_all = []\n",
    "for date in data_all[data_all['Occupancy'] == 1]['date']:\n",
    "    days_1_all.append(date.day)\n",
    "for date in data_all[data_all['Occupancy'] == 0]['date']:\n",
    "    days_0_all.append(date.day)\n",
    "    \n",
    "plt.figure(figsize=(20,6))\n",
    "sns.kdeplot(data=days_1_all, shade=True)\n",
    "sns.kdeplot(data=days_0_all, shade=True)\n",
    "plt.title(\"Density plots for occupancy during the whole dataset\")"
   ]
  },
  {
   "cell_type": "code",
   "execution_count": 52,
   "id": "maritime-movement",
   "metadata": {},
   "outputs": [
    {
     "name": "stderr",
     "output_type": "stream",
     "text": [
      "<ipython-input-52-108cd2a71630>:1: FutureWarning:\n",
      "\n",
      "Treating datetime data as categorical rather than numeric in `.describe` is deprecated and will be removed in a future version of pandas. Specify `datetime_is_numeric=True` to silence this warning and adopt the future behavior now.\n",
      "\n"
     ]
    },
    {
     "data": {
      "text/plain": [
       "count                    2665\n",
       "unique                   2665\n",
       "top       2015-02-03 14:45:59\n",
       "freq                        1\n",
       "first     2015-02-02 14:19:00\n",
       "last      2015-02-04 10:43:00\n",
       "Name: date, dtype: object"
      ]
     },
     "execution_count": 52,
     "metadata": {},
     "output_type": "execute_result"
    }
   ],
   "source": [
    "datatest.date.describe()"
   ]
  },
  {
   "cell_type": "code",
   "execution_count": 53,
   "id": "twenty-integration",
   "metadata": {},
   "outputs": [
    {
     "name": "stderr",
     "output_type": "stream",
     "text": [
      "<ipython-input-53-16bb8e0410b4>:1: FutureWarning:\n",
      "\n",
      "Treating datetime data as categorical rather than numeric in `.describe` is deprecated and will be removed in a future version of pandas. Specify `datetime_is_numeric=True` to silence this warning and adopt the future behavior now.\n",
      "\n"
     ]
    },
    {
     "data": {
      "text/plain": [
       "count                    9752\n",
       "unique                   9752\n",
       "top       2015-02-15 15:04:59\n",
       "freq                        1\n",
       "first     2015-02-11 14:48:00\n",
       "last      2015-02-18 09:19:00\n",
       "Name: date, dtype: object"
      ]
     },
     "execution_count": 53,
     "metadata": {},
     "output_type": "execute_result"
    }
   ],
   "source": [
    "datatest2.date.describe()"
   ]
  },
  {
   "cell_type": "code",
   "execution_count": 54,
   "id": "consecutive-vision",
   "metadata": {},
   "outputs": [
    {
     "name": "stderr",
     "output_type": "stream",
     "text": [
      "<ipython-input-54-fd9453f6cd06>:1: FutureWarning:\n",
      "\n",
      "Treating datetime data as categorical rather than numeric in `.describe` is deprecated and will be removed in a future version of pandas. Specify `datetime_is_numeric=True` to silence this warning and adopt the future behavior now.\n",
      "\n"
     ]
    },
    {
     "data": {
      "text/plain": [
       "count                    8143\n",
       "unique                   8143\n",
       "top       2015-02-07 20:26:59\n",
       "freq                        1\n",
       "first     2015-02-04 17:51:00\n",
       "last      2015-02-10 09:33:00\n",
       "Name: date, dtype: object"
      ]
     },
     "execution_count": 54,
     "metadata": {},
     "output_type": "execute_result"
    }
   ],
   "source": [
    "datatraining.date.describe()"
   ]
  },
  {
   "cell_type": "markdown",
   "id": "assisted-madison",
   "metadata": {},
   "source": [
    "The data available doesn't allowed to take even a small idea if there some type of seasonability due to difference between weekdays and weekends. The 3 parts of the dataset aren't continuos one to the other and because of that concatenating the 3 parts doesn't give any additional information. In particular, the step on the 4th of the month isn't as severe as the one between the 10th and the 11th were there's basically a whole day missing. The graph still gives an idea that probably would be interesting to analyze the effect of the _weekend_ in order to have some useful additional information. "
   ]
  },
  {
   "cell_type": "code",
   "execution_count": null,
   "id": "posted-bracelet",
   "metadata": {},
   "outputs": [],
   "source": []
  }
 ],
 "metadata": {
  "kernelspec": {
   "display_name": "Python 3",
   "language": "python",
   "name": "python3"
  },
  "language_info": {
   "codemirror_mode": {
    "name": "ipython",
    "version": 3
   },
   "file_extension": ".py",
   "mimetype": "text/x-python",
   "name": "python",
   "nbconvert_exporter": "python",
   "pygments_lexer": "ipython3",
   "version": "3.8.3"
  }
 },
 "nbformat": 4,
 "nbformat_minor": 5
}
